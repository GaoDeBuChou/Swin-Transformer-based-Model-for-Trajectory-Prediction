{
 "cells": [
  {
   "cell_type": "code",
   "execution_count": 1,
   "metadata": {},
   "outputs": [],
   "source": [
    "import pandas as pd\n",
    "import numpy as np\n",
    "train = pd.read_csv(\"/Users/xinchengzhu/Downloads/train.csv\")"
   ]
  },
  {
   "cell_type": "code",
   "execution_count": 3,
   "metadata": {},
   "outputs": [],
   "source": [
    "train = train[train['MISSING_DATA'] == False]"
   ]
  },
  {
   "cell_type": "code",
   "execution_count": 4,
   "metadata": {},
   "outputs": [],
   "source": [
    "train = train[train['POLYLINE'].map(len) > 1]"
   ]
  },
  {
   "cell_type": "code",
   "execution_count": 5,
   "metadata": {},
   "outputs": [],
   "source": [
    "train = train[['POLYLINE']]"
   ]
  },
  {
   "cell_type": "code",
   "execution_count": 46,
   "metadata": {},
   "outputs": [
    {
     "data": {
      "text/html": [
       "<div>\n",
       "<style scoped>\n",
       "    .dataframe tbody tr th:only-of-type {\n",
       "        vertical-align: middle;\n",
       "    }\n",
       "\n",
       "    .dataframe tbody tr th {\n",
       "        vertical-align: top;\n",
       "    }\n",
       "\n",
       "    .dataframe thead th {\n",
       "        text-align: right;\n",
       "    }\n",
       "</style>\n",
       "<table border=\"1\" class=\"dataframe\">\n",
       "  <thead>\n",
       "    <tr style=\"text-align: right;\">\n",
       "      <th></th>\n",
       "      <th>POLYLINE</th>\n",
       "    </tr>\n",
       "  </thead>\n",
       "  <tbody>\n",
       "    <tr>\n",
       "      <th>1</th>\n",
       "      <td>[[-8.639847,41.159826],[-8.640351,41.159871],[...</td>\n",
       "    </tr>\n",
       "    <tr>\n",
       "      <th>2</th>\n",
       "      <td>[[-8.612964,41.140359],[-8.613378,41.14035],[-...</td>\n",
       "    </tr>\n",
       "    <tr>\n",
       "      <th>3</th>\n",
       "      <td>[[-8.574678,41.151951],[-8.574705,41.151942],[...</td>\n",
       "    </tr>\n",
       "    <tr>\n",
       "      <th>4</th>\n",
       "      <td>[[-8.645994,41.18049],[-8.645949,41.180517],[-...</td>\n",
       "    </tr>\n",
       "    <tr>\n",
       "      <th>5</th>\n",
       "      <td>[[-8.615502,41.140674],[-8.614854,41.140926],[...</td>\n",
       "    </tr>\n",
       "    <tr>\n",
       "      <th>...</th>\n",
       "      <td>...</td>\n",
       "    </tr>\n",
       "    <tr>\n",
       "      <th>9996</th>\n",
       "      <td>[[-8.583129,41.164731],[-8.583129,41.164785],[...</td>\n",
       "    </tr>\n",
       "    <tr>\n",
       "      <th>9997</th>\n",
       "      <td>[[-8.600103,41.18274],[-8.599806,41.182722],[-...</td>\n",
       "    </tr>\n",
       "    <tr>\n",
       "      <th>9998</th>\n",
       "      <td>[[-8.5878,41.174568],[-8.587782,41.174595],[-8...</td>\n",
       "    </tr>\n",
       "    <tr>\n",
       "      <th>9999</th>\n",
       "      <td>[[-8.613144,41.166774],[-8.613333,41.166675],[...</td>\n",
       "    </tr>\n",
       "    <tr>\n",
       "      <th>10000</th>\n",
       "      <td>[[-8.641665,41.156604],[-8.640171,41.156298],[...</td>\n",
       "    </tr>\n",
       "  </tbody>\n",
       "</table>\n",
       "<p>9960 rows × 1 columns</p>\n",
       "</div>"
      ],
      "text/plain": [
       "                                                POLYLINE\n",
       "1      [[-8.639847,41.159826],[-8.640351,41.159871],[...\n",
       "2      [[-8.612964,41.140359],[-8.613378,41.14035],[-...\n",
       "3      [[-8.574678,41.151951],[-8.574705,41.151942],[...\n",
       "4      [[-8.645994,41.18049],[-8.645949,41.180517],[-...\n",
       "5      [[-8.615502,41.140674],[-8.614854,41.140926],[...\n",
       "...                                                  ...\n",
       "9996   [[-8.583129,41.164731],[-8.583129,41.164785],[...\n",
       "9997   [[-8.600103,41.18274],[-8.599806,41.182722],[-...\n",
       "9998   [[-8.5878,41.174568],[-8.587782,41.174595],[-8...\n",
       "9999   [[-8.613144,41.166774],[-8.613333,41.166675],[...\n",
       "10000  [[-8.641665,41.156604],[-8.640171,41.156298],[...\n",
       "\n",
       "[9960 rows x 1 columns]"
      ]
     },
     "execution_count": 46,
     "metadata": {},
     "output_type": "execute_result"
    }
   ],
   "source": [
    "train_1 = train.iloc[1:10001]\n",
    "train_1 = train_1[train_1['POLYLINE'] != '[]']\n",
    "train_1"
   ]
  },
  {
   "cell_type": "code",
   "execution_count": 7,
   "metadata": {},
   "outputs": [
    {
     "name": "stdout",
     "output_type": "stream",
     "text": [
      "<class 'float'>\n"
     ]
    }
   ],
   "source": [
    "a = train_1['POLYLINE'].iloc[0]\n",
    "a = a[2:-2]\n",
    "b = a.split('],[')\n",
    "new = []\n",
    "for item in b:\n",
    "    new.append(item.split(','))\n",
    "for i in range(len(new)):\n",
    "    new[i] = [float(j) for j in new[i]]\n",
    "print(type(new[0][0]))"
   ]
  },
  {
   "cell_type": "code",
   "execution_count": 47,
   "metadata": {},
   "outputs": [],
   "source": [
    "for i in range(len(train_1)):\n",
    "    a = train_1['POLYLINE'].iloc[i]\n",
    "    a = a[2:-2]\n",
    "    new = []\n",
    "    for item in b:\n",
    "        new.append(item.split(','))\n",
    "    for k in range(len(new)):\n",
    "        new[k] = [float(j) for j in new[k]]\n",
    "    train_1['POLYLINE'].iloc[i] = new"
   ]
  },
  {
   "cell_type": "code",
   "execution_count": 58,
   "metadata": {},
   "outputs": [
    {
     "data": {
      "text/plain": [
       "[-8.641665, 41.156604]"
      ]
     },
     "execution_count": 58,
     "metadata": {},
     "output_type": "execute_result"
    }
   ],
   "source": [
    "train_1[\"POLYLINE\"].iloc(0)[0][0]"
   ]
  },
  {
   "cell_type": "code",
   "execution_count": 62,
   "metadata": {},
   "outputs": [
    {
     "name": "stdout",
     "output_type": "stream",
     "text": [
      "41.174226 -8.606322 -8.620776 41.155902\n"
     ]
    }
   ],
   "source": [
    "max_latitude = train_1[\"POLYLINE\"].iloc(0)[0][0][0]\n",
    "min_latitude = train_1[\"POLYLINE\"].iloc(0)[0][0][0]\n",
    "max_longtitude = train_1[\"POLYLINE\"].iloc(0)[0][0][1]\n",
    "min_longtitude = train_1[\"POLYLINE\"].iloc(0)[0][0][1]\n",
    "for i in range(len(train_1)):\n",
    "    for cord in train_1[\"POLYLINE\"].iloc(0)[i]:\n",
    "        max_latitude = max(max_latitude,cord[0])\n",
    "        max_longtitude = max(max_longtitude,cord[1])\n",
    "        min_latitude = min(max_latitude,cord[0])\n",
    "        min_longtitude = min(max_longtitude,cord[1])\n",
    "print(max_longtitude,max_latitude,min_latitude,min_longtitude)"
   ]
  },
  {
   "cell_type": "code",
   "execution_count": 43,
   "metadata": {},
   "outputs": [
    {
     "name": "stdout",
     "output_type": "stream",
     "text": [
      "<class 'str'>\n"
     ]
    }
   ],
   "source": []
  },
  {
   "cell_type": "code",
   "execution_count": null,
   "metadata": {},
   "outputs": [],
   "source": []
  }
 ],
 "metadata": {
  "interpreter": {
   "hash": "aee8b7b246df8f9039afb4144a1f6fd8d2ca17a180786b69acc140d282b71a49"
  },
  "kernelspec": {
   "display_name": "Python 3.9.7 64-bit",
   "language": "python",
   "name": "python3"
  },
  "language_info": {
   "codemirror_mode": {
    "name": "ipython",
    "version": 3
   },
   "file_extension": ".py",
   "mimetype": "text/x-python",
   "name": "python",
   "nbconvert_exporter": "python",
   "pygments_lexer": "ipython3",
   "version": "3.9.7"
  },
  "orig_nbformat": 4
 },
 "nbformat": 4,
 "nbformat_minor": 2
}
