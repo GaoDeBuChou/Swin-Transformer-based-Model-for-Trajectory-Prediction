{
 "cells": [
  {
   "cell_type": "code",
   "execution_count": 1,
   "id": "d1ea8790-e5c3-44da-a27e-b1929b70cbaa",
   "metadata": {
    "tags": []
   },
   "outputs": [],
   "source": [
    "import numpy as np\n",
    "import pandas as pd\n",
    "\n",
    "train = pd.read_csv(\"../data/train.csv\")"
   ]
  },
  {
   "cell_type": "code",
   "execution_count": 2,
   "id": "e4bdab8c-0706-48d0-aa4a-24df14ff51d1",
   "metadata": {
    "tags": []
   },
   "outputs": [
    {
     "data": {
      "text/html": [
       "<div>\n",
       "<style scoped>\n",
       "    .dataframe tbody tr th:only-of-type {\n",
       "        vertical-align: middle;\n",
       "    }\n",
       "\n",
       "    .dataframe tbody tr th {\n",
       "        vertical-align: top;\n",
       "    }\n",
       "\n",
       "    .dataframe thead th {\n",
       "        text-align: right;\n",
       "    }\n",
       "</style>\n",
       "<table border=\"1\" class=\"dataframe\">\n",
       "  <thead>\n",
       "    <tr style=\"text-align: right;\">\n",
       "      <th></th>\n",
       "      <th>POLYLINE</th>\n",
       "    </tr>\n",
       "  </thead>\n",
       "  <tbody>\n",
       "    <tr>\n",
       "      <th>479854</th>\n",
       "      <td>[[-8.600049,41.182731],[-8.600265,41.182794],[...</td>\n",
       "    </tr>\n",
       "    <tr>\n",
       "      <th>1073173</th>\n",
       "      <td>[[-8.602875,41.179635],[-8.603298,41.179941],[...</td>\n",
       "    </tr>\n",
       "    <tr>\n",
       "      <th>1416908</th>\n",
       "      <td>[[-8.611002,41.146101],[-8.610813,41.145471],[...</td>\n",
       "    </tr>\n",
       "    <tr>\n",
       "      <th>818366</th>\n",
       "      <td>[[-8.649576,41.167251],[-8.649729,41.1669],[-8...</td>\n",
       "    </tr>\n",
       "    <tr>\n",
       "      <th>262163</th>\n",
       "      <td>[[-8.600238,41.182722],[-8.599806,41.182695],[...</td>\n",
       "    </tr>\n",
       "    <tr>\n",
       "      <th>...</th>\n",
       "      <td>...</td>\n",
       "    </tr>\n",
       "    <tr>\n",
       "      <th>1582011</th>\n",
       "      <td>[[-8.640738,41.159988],[-8.640837,41.159988],[...</td>\n",
       "    </tr>\n",
       "    <tr>\n",
       "      <th>136183</th>\n",
       "      <td>[[-8.610966,41.145498],[-8.610993,41.145588],[...</td>\n",
       "    </tr>\n",
       "    <tr>\n",
       "      <th>166141</th>\n",
       "      <td>[[-8.585631,41.148504],[-8.585703,41.148711],[...</td>\n",
       "    </tr>\n",
       "    <tr>\n",
       "      <th>48689</th>\n",
       "      <td>[[-8.578161,41.192397],[-8.578719,41.191578],[...</td>\n",
       "    </tr>\n",
       "    <tr>\n",
       "      <th>1355501</th>\n",
       "      <td>[[-8.649315,41.154327],[-8.650152,41.154318],[...</td>\n",
       "    </tr>\n",
       "  </tbody>\n",
       "</table>\n",
       "<p>10000 rows × 1 columns</p>\n",
       "</div>"
      ],
      "text/plain": [
       "                                                  POLYLINE\n",
       "479854   [[-8.600049,41.182731],[-8.600265,41.182794],[...\n",
       "1073173  [[-8.602875,41.179635],[-8.603298,41.179941],[...\n",
       "1416908  [[-8.611002,41.146101],[-8.610813,41.145471],[...\n",
       "818366   [[-8.649576,41.167251],[-8.649729,41.1669],[-8...\n",
       "262163   [[-8.600238,41.182722],[-8.599806,41.182695],[...\n",
       "...                                                    ...\n",
       "1582011  [[-8.640738,41.159988],[-8.640837,41.159988],[...\n",
       "136183   [[-8.610966,41.145498],[-8.610993,41.145588],[...\n",
       "166141   [[-8.585631,41.148504],[-8.585703,41.148711],[...\n",
       "48689    [[-8.578161,41.192397],[-8.578719,41.191578],[...\n",
       "1355501  [[-8.649315,41.154327],[-8.650152,41.154318],[...\n",
       "\n",
       "[10000 rows x 1 columns]"
      ]
     },
     "execution_count": 2,
     "metadata": {},
     "output_type": "execute_result"
    }
   ],
   "source": [
    "# Filter missing data and useless columns\n",
    "train = train[train[\"MISSING_DATA\"] == False]\n",
    "train = train[train[\"POLYLINE\"].map(len) > 1]\n",
    "train = train[train[\"POLYLINE\"] != \"[]\"]\n",
    "train = train[[\"POLYLINE\"]]\n",
    "# Choose 10000 rows randomly from dataset to run\n",
    "train_1 = train.sample(10000)\n",
    "\n",
    "train_1"
   ]
  },
  {
   "cell_type": "code",
   "execution_count": 3,
   "id": "86249f42-b8e5-4cbf-a57b-ad96743ae324",
   "metadata": {
    "tags": []
   },
   "outputs": [],
   "source": [
    "def _change_type(polyline):\n",
    "    polyline = polyline[2:-2]\n",
    "    cords_raw = polyline.split(\"],[\")\n",
    "    cords = []\n",
    "    max_lon, min_lon, max_lat, min_lat = float(\"-inf\"), float(\"inf\"), float(\"-inf\"), float(\"inf\")\n",
    "    for cord in cords_raw:\n",
    "        cords.append([float(loc) for loc in cord.split(\",\")])\n",
    "        max_lon = max(max_lon, cords[-1][0])\n",
    "        min_lon = min(min_lon, cords[-1][0])\n",
    "        max_lat = max(max_lat, cords[-1][1])\n",
    "        min_lat = min(min_lat, cords[-1][1])\n",
    "    return pd.Series({\"POLYLINE\": cords, \"max_lon\": max_lon, \"min_lon\": min_lon, \"max_lat\": max_lat, \"min_lat\": min_lat})"
   ]
  },
  {
   "cell_type": "code",
   "execution_count": 4,
   "id": "9e5f2409-e5e6-44c0-a872-bdd916a5da45",
   "metadata": {
    "tags": []
   },
   "outputs": [],
   "source": [
    "def _normalize(polyline, max_lon, min_lon, max_lat, min_lat):\n",
    "    final = [[(cord[0]-min_lon)/(max_lon-min_lon), (cord[1] - min_lat) / (max_lat - min_lat)] for cord in polyline]\n",
    "    return pd.Series({\"POLYLINE_INIT\": final[:-1], \"POLYLINE_DEST\": final[-1]})"
   ]
  },
  {
   "cell_type": "code",
   "execution_count": 5,
   "id": "f68deddf-0156-43c3-9859-87945f56de18",
   "metadata": {
    "tags": []
   },
   "outputs": [],
   "source": [
    "def _to_matrix(polyline, m):\n",
    "    mat = np.zeros((m, m))\n",
    "    n = len(polyline)\n",
    "    for i in range(n):\n",
    "        x = min(m - 1, int(polyline[i][0] * m))\n",
    "        y = min(m - 1, int(polyline[i][1] * m))\n",
    "        mat[y][x] = (i + 1) / n\n",
    "    return mat"
   ]
  },
  {
   "cell_type": "code",
   "execution_count": 6,
   "id": "6e2bfcf4-5f23-452d-9b23-d1d0c02085d5",
   "metadata": {
    "tags": []
   },
   "outputs": [],
   "source": [
    "def transform(df_train, m):\n",
    "    # Change type\n",
    "    changed = df_train[\"POLYLINE\"].apply(_change_type)\n",
    "    df_train[\"POLYLINE\"] = changed[\"POLYLINE\"]\n",
    "    # Get min-max\n",
    "    max_longitude = changed[\"max_lon\"].max()\n",
    "    min_longitude = changed[\"min_lon\"].min()\n",
    "    max_latitude = changed[\"max_lat\"].max()\n",
    "    min_latitude = changed[\"min_lat\"].min()\n",
    "    # Normalize min-max and split\n",
    "    cleaned = train_1[\"POLYLINE\"].apply(_normalize, args=(max_longitude, min_longitude, max_latitude, min_latitude))\n",
    "    # Transform to matrices\n",
    "    cleaned[\"MATRIX\"] = cleaned[\"POLYLINE_INIT\"].apply(_to_matrix, args=(m,))\n",
    "    return cleaned"
   ]
  },
  {
   "cell_type": "code",
   "execution_count": 7,
   "id": "7e561371-815f-461a-9722-399e7be64a06",
   "metadata": {
    "tags": []
   },
   "outputs": [],
   "source": [
    "transformed = transform(train_1, 256)"
   ]
  },
  {
   "cell_type": "code",
   "execution_count": 8,
   "id": "639960d0-117b-4673-8e6f-d6da4aed4d93",
   "metadata": {
    "tags": []
   },
   "outputs": [],
   "source": [
    "import matplotlib.pyplot as plt"
   ]
  },
  {
   "cell_type": "code",
   "execution_count": 9,
   "id": "46a48663-40f0-4979-970e-d3e0d82e9b3b",
   "metadata": {
    "tags": []
   },
   "outputs": [
    {
     "data": {
      "image/png": "[encoded data removed]",
      "text/plain": [
       "<Figure size 432x288 with 1 Axes>"
      ]
     },
     "metadata": {
      "needs_background": "light"
     },
     "output_type": "display_data"
    }
   ],
   "source": [
    "mat = transformed[\"MATRIX\"].iloc[0]\n",
    "\n",
    "plt.imshow(mat)\n",
    "plt.show()"
   ]
  },
  {
   "cell_type": "code",
   "execution_count": 10,
   "id": "464546b1-c90a-462c-a6fc-84e2d87c5d5f",
   "metadata": {
    "tags": []
   },
   "outputs": [
    {
     "data": {
      "image/png": "[encoded data removed]",
      "text/plain": [
       "<Figure size 432x288 with 1 Axes>"
      ]
     },
     "metadata": {
      "needs_background": "light"
     },
     "output_type": "display_data"
    }
   ],
   "source": [
    "plt.imshow(mat[90:100, 160:170])\n",
    "plt.show()"
   ]
  }
 ],
 "metadata": {
  "kernelspec": {
   "display_name": "Python 3 (ipykernel)",
   "language": "python",
   "name": "python3"
  },
  "language_info": {
   "codemirror_mode": {
    "name": "ipython",
    "version": 3
   },
   "file_extension": ".py",
   "mimetype": "text/x-python",
   "name": "python",
   "nbconvert_exporter": "python",
   "pygments_lexer": "ipython3",
   "version": "3.8.4"
  }
 },
 "nbformat": 4,
 "nbformat_minor": 5
}
