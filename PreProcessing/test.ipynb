{
 "cells": [
  {
   "cell_type": "code",
   "execution_count": 62,
   "id": "d1ea8790-e5c3-44da-a27e-b1929b70cbaa",
   "metadata": {
    "tags": []
   },
   "outputs": [],
   "source": [
    "import numpy as np\n",
    "import pandas as pd\n",
    "\n",
    "train = pd.read_csv(\"/Users/xinchengzhu/Downloads/train.csv\")"
   ]
  },
  {
   "cell_type": "code",
   "execution_count": 63,
   "id": "e4bdab8c-0706-48d0-aa4a-24df14ff51d1",
   "metadata": {
    "tags": []
   },
   "outputs": [
    {
     "data": {
      "text/html": [
       "<div>\n",
       "<style scoped>\n",
       "    .dataframe tbody tr th:only-of-type {\n",
       "        vertical-align: middle;\n",
       "    }\n",
       "\n",
       "    .dataframe tbody tr th {\n",
       "        vertical-align: top;\n",
       "    }\n",
       "\n",
       "    .dataframe thead th {\n",
       "        text-align: right;\n",
       "    }\n",
       "</style>\n",
       "<table border=\"1\" class=\"dataframe\">\n",
       "  <thead>\n",
       "    <tr style=\"text-align: right;\">\n",
       "      <th></th>\n",
       "      <th>POLYLINE</th>\n",
       "    </tr>\n",
       "  </thead>\n",
       "  <tbody>\n",
       "    <tr>\n",
       "      <th>1165211</th>\n",
       "      <td>[[-8.628219,41.165046],[-8.62839,41.164956],[-...</td>\n",
       "    </tr>\n",
       "    <tr>\n",
       "      <th>1177678</th>\n",
       "      <td>[[-8.630451,41.167944]]</td>\n",
       "    </tr>\n",
       "    <tr>\n",
       "      <th>1609640</th>\n",
       "      <td>[[-8.585793,41.148954],[-8.586387,41.14899],[-...</td>\n",
       "    </tr>\n",
       "    <tr>\n",
       "      <th>1319474</th>\n",
       "      <td>[[-8.613675,41.141556],[-8.613846,41.141142],[...</td>\n",
       "    </tr>\n",
       "    <tr>\n",
       "      <th>471524</th>\n",
       "      <td>[[-8.648217,41.154408],[-8.647191,41.155362],[...</td>\n",
       "    </tr>\n",
       "    <tr>\n",
       "      <th>...</th>\n",
       "      <td>...</td>\n",
       "    </tr>\n",
       "    <tr>\n",
       "      <th>1347818</th>\n",
       "      <td>[[-8.614701,41.140917],[-8.614053,41.14116],[-...</td>\n",
       "    </tr>\n",
       "    <tr>\n",
       "      <th>1383609</th>\n",
       "      <td>[[-8.609661,41.160222],[-8.609643,41.160258],[...</td>\n",
       "    </tr>\n",
       "    <tr>\n",
       "      <th>1248515</th>\n",
       "      <td>[[-8.644932,41.162706],[-8.64495,41.162958],[-...</td>\n",
       "    </tr>\n",
       "    <tr>\n",
       "      <th>244641</th>\n",
       "      <td>[[-8.639991,41.159637],[-8.639955,41.159646],[...</td>\n",
       "    </tr>\n",
       "    <tr>\n",
       "      <th>1460011</th>\n",
       "      <td>[[-8.582544,41.180616],[-8.582346,41.180508],[...</td>\n",
       "    </tr>\n",
       "  </tbody>\n",
       "</table>\n",
       "<p>10000 rows × 1 columns</p>\n",
       "</div>"
      ],
      "text/plain": [
       "                                                  POLYLINE\n",
       "1165211  [[-8.628219,41.165046],[-8.62839,41.164956],[-...\n",
       "1177678                            [[-8.630451,41.167944]]\n",
       "1609640  [[-8.585793,41.148954],[-8.586387,41.14899],[-...\n",
       "1319474  [[-8.613675,41.141556],[-8.613846,41.141142],[...\n",
       "471524   [[-8.648217,41.154408],[-8.647191,41.155362],[...\n",
       "...                                                    ...\n",
       "1347818  [[-8.614701,41.140917],[-8.614053,41.14116],[-...\n",
       "1383609  [[-8.609661,41.160222],[-8.609643,41.160258],[...\n",
       "1248515  [[-8.644932,41.162706],[-8.64495,41.162958],[-...\n",
       "244641   [[-8.639991,41.159637],[-8.639955,41.159646],[...\n",
       "1460011  [[-8.582544,41.180616],[-8.582346,41.180508],[...\n",
       "\n",
       "[10000 rows x 1 columns]"
      ]
     },
     "execution_count": 63,
     "metadata": {},
     "output_type": "execute_result"
    }
   ],
   "source": [
    "# Filter missing data and useless columns\n",
    "train = train[train[\"MISSING_DATA\"] == False]\n",
    "train = train[train[\"POLYLINE\"].map(len) > 1]\n",
    "train = train[train[\"POLYLINE\"] != \"[]\"]\n",
    "train = train[[\"POLYLINE\"]]\n",
    "# Choose 10000 rows randomly from dataset to run\n",
    "train_1 = train.sample(10000)\n",
    "\n",
    "train_1"
   ]
  },
  {
   "cell_type": "code",
   "execution_count": 64,
   "id": "86249f42-b8e5-4cbf-a57b-ad96743ae324",
   "metadata": {
    "tags": []
   },
   "outputs": [],
   "source": [
    "def _change_type(polyline):\n",
    "    polyline = polyline[2:-2]\n",
    "    cords_raw = polyline.split(\"],[\")\n",
    "    cords = []\n",
    "    max_lon, min_lon, max_lat, min_lat = float(\"-inf\"), float(\"inf\"), float(\"-inf\"), float(\"inf\")\n",
    "    for cord in cords_raw:\n",
    "        cords.append([float(loc) for loc in cord.split(\",\")])\n",
    "        max_lon = max(max_lon, cords[-1][0])\n",
    "        min_lon = min(min_lon, cords[-1][0])\n",
    "        max_lat = max(max_lat, cords[-1][1])\n",
    "        min_lat = min(min_lat, cords[-1][1])\n",
    "    return pd.Series({\"POLYLINE\": cords, \"max_lon\": max_lon, \"min_lon\": min_lon, \"max_lat\": max_lat, \"min_lat\": min_lat})"
   ]
  },
  {
   "cell_type": "code",
   "execution_count": 71,
   "id": "98cb2f87",
   "metadata": {},
   "outputs": [
    {
     "data": {
      "text/html": [
       "<div>\n",
       "<style scoped>\n",
       "    .dataframe tbody tr th:only-of-type {\n",
       "        vertical-align: middle;\n",
       "    }\n",
       "\n",
       "    .dataframe tbody tr th {\n",
       "        vertical-align: top;\n",
       "    }\n",
       "\n",
       "    .dataframe thead th {\n",
       "        text-align: right;\n",
       "    }\n",
       "</style>\n",
       "<table border=\"1\" class=\"dataframe\">\n",
       "  <thead>\n",
       "    <tr style=\"text-align: right;\">\n",
       "      <th></th>\n",
       "      <th>POLYLINE</th>\n",
       "      <th>max_lon</th>\n",
       "      <th>min_lon</th>\n",
       "      <th>max_lat</th>\n",
       "      <th>min_lat</th>\n",
       "      <th>check</th>\n",
       "    </tr>\n",
       "  </thead>\n",
       "  <tbody>\n",
       "  </tbody>\n",
       "</table>\n",
       "</div>"
      ],
      "text/plain": [
       "Empty DataFrame\n",
       "Columns: [POLYLINE, max_lon, min_lon, max_lat, min_lat, check]\n",
       "Index: []"
      ]
     },
     "execution_count": 71,
     "metadata": {},
     "output_type": "execute_result"
    }
   ],
   "source": [
    "def filter_map(train, max_lat, min_lat, max_long, min_long):\n",
    "    changed = train[\"POLYLINE\"].apply(_change_type)\n",
    "    changed.reset_index(drop=True,inplace=True)\n",
    "    for i in range(len(changed)):\n",
    "        for cord in changed.iloc[i]['POLYLINE']:\n",
    "            if cord[0] in range(min_long, max_long) and cord[1] in range(min_lat, max_lat):\n",
    "                changed[\"check\"] = 1\n",
    "            else:\n",
    "                changed[\"check\"] = 0\n",
    "    return changed[changed[\"check\"] == 1]\n"
   ]
  },
  {
   "cell_type": "code",
   "execution_count": 4,
   "id": "9e5f2409-e5e6-44c0-a872-bdd916a5da45",
   "metadata": {
    "tags": []
   },
   "outputs": [],
   "source": [
    "def _normalize(polyline, max_lon, min_lon, max_lat, min_lat):\n",
    "    final = [[(cord[0]-min_lon)/(max_lon-min_lon), (cord[1] - min_lat) / (max_lat - min_lat)] for cord in polyline]\n",
    "    return pd.Series({\"POLYLINE_INIT\": final[:-1], \"POLYLINE_DEST\": final[-1]})"
   ]
  },
  {
   "cell_type": "code",
   "execution_count": 5,
   "id": "f68deddf-0156-43c3-9859-87945f56de18",
   "metadata": {
    "tags": []
   },
   "outputs": [],
   "source": [
    "def _to_matrix(polyline, m):\n",
    "    mat = np.zeros((m, m))\n",
    "    n = len(polyline)\n",
    "    for i in range(n):\n",
    "        x = min(m - 1, int(polyline[i][0] * m))\n",
    "        y = min(m - 1, int(polyline[i][1] * m))\n",
    "        mat[y][x] = (i + 1) / n\n",
    "    return mat"
   ]
  },
  {
   "cell_type": "code",
   "execution_count": 6,
   "id": "6e2bfcf4-5f23-452d-9b23-d1d0c02085d5",
   "metadata": {
    "tags": []
   },
   "outputs": [],
   "source": [
    "def transform(df_train, m):\n",
    "    # Change type\n",
    "    changed = df_train[\"POLYLINE\"].apply(_change_type)\n",
    "    df_train[\"POLYLINE\"] = changed[\"POLYLINE\"]\n",
    "    # Get min-max\n",
    "    max_longitude = changed[\"max_lon\"].max()\n",
    "    min_longitude = changed[\"min_lon\"].min()\n",
    "    max_latitude = changed[\"max_lat\"].max()\n",
    "    min_latitude = changed[\"min_lat\"].min()\n",
    "    # Normalize min-max and split\n",
    "    cleaned = train_1[\"POLYLINE\"].apply(_normalize, args=(max_longitude, min_longitude, max_latitude, min_latitude))\n",
    "    # Transform to matrices\n",
    "    cleaned[\"MATRIX\"] = cleaned[\"POLYLINE_INIT\"].apply(_to_matrix, args=(m,))\n",
    "    return cleaned"
   ]
  },
  {
   "cell_type": "code",
   "execution_count": 7,
   "id": "7e561371-815f-461a-9722-399e7be64a06",
   "metadata": {
    "tags": []
   },
   "outputs": [],
   "source": [
    "transformed = transform(train_1, 256)"
   ]
  },
  {
   "cell_type": "code",
   "execution_count": 8,
   "id": "639960d0-117b-4673-8e6f-d6da4aed4d93",
   "metadata": {
    "tags": []
   },
   "outputs": [],
   "source": [
    "import matplotlib.pyplot as plt"
   ]
  },
  {
   "cell_type": "code",
   "execution_count": 9,
   "id": "46a48663-40f0-4979-970e-d3e0d82e9b3b",
   "metadata": {
    "tags": []
   },
   "outputs": [
    {
     "data": {
      "image/png": "[encoded data removed]",
      "text/plain": [
       "<Figure size 432x288 with 1 Axes>"
      ]
     },
     "metadata": {
      "needs_background": "light"
     },
     "output_type": "display_data"
    }
   ],
   "source": [
    "mat = transformed[\"MATRIX\"].iloc[0]\n",
    "\n",
    "plt.imshow(mat)\n",
    "plt.show()"
   ]
  },
  {
   "cell_type": "code",
   "execution_count": 10,
   "id": "464546b1-c90a-462c-a6fc-84e2d87c5d5f",
   "metadata": {
    "tags": []
   },
   "outputs": [
    {
     "data": {
      "image/png": "[encoded data removed]",
      "text/plain": [
       "<Figure size 432x288 with 1 Axes>"
      ]
     },
     "metadata": {
      "needs_background": "light"
     },
     "output_type": "display_data"
    }
   ],
   "source": [
    "plt.imshow(mat[90:100, 160:170])\n",
    "plt.show()"
   ]
  },
  {
   "cell_type": "code",
   "execution_count": 37,
   "id": "a95fb78b",
   "metadata": {},
   "outputs": [
    {
     "ename": "IndexError",
     "evalue": "index 7 is out of bounds for axis 0 with size 7",
     "output_type": "error",
     "traceback": [
      "\u001b[0;31m---------------------------------------------------------------------------\u001b[0m",
      "\u001b[0;31mIndexError\u001b[0m                                Traceback (most recent call last)",
      "\u001b[0;32m/var/folders/60/7b3qp4pn7ks_tq779lk_cg200000gn/T/ipykernel_18932/2235125406.py\u001b[0m in \u001b[0;36m<module>\u001b[0;34m\u001b[0m\n\u001b[1;32m      4\u001b[0m             \u001b[0;32mpass\u001b[0m\u001b[0;34m\u001b[0m\u001b[0;34m\u001b[0m\u001b[0m\n\u001b[1;32m      5\u001b[0m         \u001b[0;32melse\u001b[0m\u001b[0;34m:\u001b[0m\u001b[0;34m\u001b[0m\u001b[0;34m\u001b[0m\u001b[0m\n\u001b[0;32m----> 6\u001b[0;31m             \u001b[0mtrain_1\u001b[0m\u001b[0;34m.\u001b[0m\u001b[0mdrop\u001b[0m\u001b[0;34m(\u001b[0m\u001b[0;34m[\u001b[0m\u001b[0mtrain_1\u001b[0m\u001b[0;34m.\u001b[0m\u001b[0mindex\u001b[0m\u001b[0;34m[\u001b[0m\u001b[0mi\u001b[0m\u001b[0;34m]\u001b[0m\u001b[0;34m]\u001b[0m\u001b[0;34m,\u001b[0m \u001b[0minplace\u001b[0m\u001b[0;34m=\u001b[0m\u001b[0;32mTrue\u001b[0m\u001b[0;34m)\u001b[0m\u001b[0;34m\u001b[0m\u001b[0;34m\u001b[0m\u001b[0m\n\u001b[0m",
      "\u001b[0;32m/Library/Frameworks/Python.framework/Versions/3.9/lib/python3.9/site-packages/pandas/core/indexes/base.py\u001b[0m in \u001b[0;36m__getitem__\u001b[0;34m(self, key)\u001b[0m\n\u001b[1;32m   4602\u001b[0m         \u001b[0;32mif\u001b[0m \u001b[0mis_scalar\u001b[0m\u001b[0;34m(\u001b[0m\u001b[0mkey\u001b[0m\u001b[0;34m)\u001b[0m\u001b[0;34m:\u001b[0m\u001b[0;34m\u001b[0m\u001b[0;34m\u001b[0m\u001b[0m\n\u001b[1;32m   4603\u001b[0m             \u001b[0mkey\u001b[0m \u001b[0;34m=\u001b[0m \u001b[0mcom\u001b[0m\u001b[0;34m.\u001b[0m\u001b[0mcast_scalar_indexer\u001b[0m\u001b[0;34m(\u001b[0m\u001b[0mkey\u001b[0m\u001b[0;34m,\u001b[0m \u001b[0mwarn_float\u001b[0m\u001b[0;34m=\u001b[0m\u001b[0;32mTrue\u001b[0m\u001b[0;34m)\u001b[0m\u001b[0;34m\u001b[0m\u001b[0;34m\u001b[0m\u001b[0m\n\u001b[0;32m-> 4604\u001b[0;31m             \u001b[0;32mreturn\u001b[0m \u001b[0mgetitem\u001b[0m\u001b[0;34m(\u001b[0m\u001b[0mkey\u001b[0m\u001b[0;34m)\u001b[0m\u001b[0;34m\u001b[0m\u001b[0;34m\u001b[0m\u001b[0m\n\u001b[0m\u001b[1;32m   4605\u001b[0m \u001b[0;34m\u001b[0m\u001b[0m\n\u001b[1;32m   4606\u001b[0m         \u001b[0;32mif\u001b[0m \u001b[0misinstance\u001b[0m\u001b[0;34m(\u001b[0m\u001b[0mkey\u001b[0m\u001b[0;34m,\u001b[0m \u001b[0mslice\u001b[0m\u001b[0;34m)\u001b[0m\u001b[0;34m:\u001b[0m\u001b[0;34m\u001b[0m\u001b[0;34m\u001b[0m\u001b[0m\n",
      "\u001b[0;31mIndexError\u001b[0m: index 7 is out of bounds for axis 0 with size 7"
     ]
    }
   ],
   "source": [
    "for i in range(len(train_1)):\n",
    "    for cord in train_1.iloc[i]['POLYLINE']:\n",
    "        if cord[0] in range(1, 4) and cord[1] in range(1, 5):\n",
    "            pass\n",
    "        else:\n",
    "            train_1.drop([train_1.index[i]], inplace=True)"
   ]
  },
  {
   "cell_type": "code",
   "execution_count": 69,
   "id": "48be856c",
   "metadata": {},
   "outputs": [
    {
     "data": {
      "text/html": [
       "<div>\n",
       "<style scoped>\n",
       "    .dataframe tbody tr th:only-of-type {\n",
       "        vertical-align: middle;\n",
       "    }\n",
       "\n",
       "    .dataframe tbody tr th {\n",
       "        vertical-align: top;\n",
       "    }\n",
       "\n",
       "    .dataframe thead th {\n",
       "        text-align: right;\n",
       "    }\n",
       "</style>\n",
       "<table border=\"1\" class=\"dataframe\">\n",
       "  <thead>\n",
       "    <tr style=\"text-align: right;\">\n",
       "      <th></th>\n",
       "      <th>POLYLINE</th>\n",
       "      <th>index</th>\n",
       "    </tr>\n",
       "  </thead>\n",
       "  <tbody>\n",
       "    <tr>\n",
       "      <th>1</th>\n",
       "      <td>[[-8.630451,41.167944]]</td>\n",
       "      <td>1</td>\n",
       "    </tr>\n",
       "    <tr>\n",
       "      <th>2</th>\n",
       "      <td>[[-8.585793,41.148954],[-8.586387,41.14899],[-...</td>\n",
       "      <td>2</td>\n",
       "    </tr>\n",
       "    <tr>\n",
       "      <th>3</th>\n",
       "      <td>[[-8.613675,41.141556],[-8.613846,41.141142],[...</td>\n",
       "      <td>3</td>\n",
       "    </tr>\n",
       "    <tr>\n",
       "      <th>4</th>\n",
       "      <td>[[-8.648217,41.154408],[-8.647191,41.155362],[...</td>\n",
       "      <td>4</td>\n",
       "    </tr>\n",
       "    <tr>\n",
       "      <th>5</th>\n",
       "      <td>[[-8.589267,41.169717],[-8.589267,41.169825],[...</td>\n",
       "      <td>5</td>\n",
       "    </tr>\n",
       "    <tr>\n",
       "      <th>...</th>\n",
       "      <td>...</td>\n",
       "      <td>...</td>\n",
       "    </tr>\n",
       "    <tr>\n",
       "      <th>9995</th>\n",
       "      <td>[[-8.614701,41.140917],[-8.614053,41.14116],[-...</td>\n",
       "      <td>9995</td>\n",
       "    </tr>\n",
       "    <tr>\n",
       "      <th>9996</th>\n",
       "      <td>[[-8.609661,41.160222],[-8.609643,41.160258],[...</td>\n",
       "      <td>9996</td>\n",
       "    </tr>\n",
       "    <tr>\n",
       "      <th>9997</th>\n",
       "      <td>[[-8.644932,41.162706],[-8.64495,41.162958],[-...</td>\n",
       "      <td>9997</td>\n",
       "    </tr>\n",
       "    <tr>\n",
       "      <th>9998</th>\n",
       "      <td>[[-8.639991,41.159637],[-8.639955,41.159646],[...</td>\n",
       "      <td>9998</td>\n",
       "    </tr>\n",
       "    <tr>\n",
       "      <th>9999</th>\n",
       "      <td>[[-8.582544,41.180616],[-8.582346,41.180508],[...</td>\n",
       "      <td>9999</td>\n",
       "    </tr>\n",
       "  </tbody>\n",
       "</table>\n",
       "<p>9999 rows × 2 columns</p>\n",
       "</div>"
      ],
      "text/plain": [
       "                                               POLYLINE  index\n",
       "1                               [[-8.630451,41.167944]]      1\n",
       "2     [[-8.585793,41.148954],[-8.586387,41.14899],[-...      2\n",
       "3     [[-8.613675,41.141556],[-8.613846,41.141142],[...      3\n",
       "4     [[-8.648217,41.154408],[-8.647191,41.155362],[...      4\n",
       "5     [[-8.589267,41.169717],[-8.589267,41.169825],[...      5\n",
       "...                                                 ...    ...\n",
       "9995  [[-8.614701,41.140917],[-8.614053,41.14116],[-...   9995\n",
       "9996  [[-8.609661,41.160222],[-8.609643,41.160258],[...   9996\n",
       "9997  [[-8.644932,41.162706],[-8.64495,41.162958],[-...   9997\n",
       "9998  [[-8.639991,41.159637],[-8.639955,41.159646],[...   9998\n",
       "9999  [[-8.582544,41.180616],[-8.582346,41.180508],[...   9999\n",
       "\n",
       "[9999 rows x 2 columns]"
      ]
     },
     "execution_count": 69,
     "metadata": {},
     "output_type": "execute_result"
    }
   ],
   "source": [
    "train_1.drop([train_1.index[0]],inplace=True)\n",
    "train_1"
   ]
  },
  {
   "cell_type": "code",
   "execution_count": 66,
   "id": "3b41da4e",
   "metadata": {},
   "outputs": [
    {
     "data": {
      "text/html": [
       "<div>\n",
       "<style scoped>\n",
       "    .dataframe tbody tr th:only-of-type {\n",
       "        vertical-align: middle;\n",
       "    }\n",
       "\n",
       "    .dataframe tbody tr th {\n",
       "        vertical-align: top;\n",
       "    }\n",
       "\n",
       "    .dataframe thead th {\n",
       "        text-align: right;\n",
       "    }\n",
       "</style>\n",
       "<table border=\"1\" class=\"dataframe\">\n",
       "  <thead>\n",
       "    <tr style=\"text-align: right;\">\n",
       "      <th></th>\n",
       "      <th>POLYLINE</th>\n",
       "    </tr>\n",
       "  </thead>\n",
       "  <tbody>\n",
       "    <tr>\n",
       "      <th>0</th>\n",
       "      <td>[[-8.628219,41.165046],[-8.62839,41.164956],[-...</td>\n",
       "    </tr>\n",
       "    <tr>\n",
       "      <th>1</th>\n",
       "      <td>[[-8.630451,41.167944]]</td>\n",
       "    </tr>\n",
       "    <tr>\n",
       "      <th>2</th>\n",
       "      <td>[[-8.585793,41.148954],[-8.586387,41.14899],[-...</td>\n",
       "    </tr>\n",
       "    <tr>\n",
       "      <th>3</th>\n",
       "      <td>[[-8.613675,41.141556],[-8.613846,41.141142],[...</td>\n",
       "    </tr>\n",
       "    <tr>\n",
       "      <th>4</th>\n",
       "      <td>[[-8.648217,41.154408],[-8.647191,41.155362],[...</td>\n",
       "    </tr>\n",
       "    <tr>\n",
       "      <th>...</th>\n",
       "      <td>...</td>\n",
       "    </tr>\n",
       "    <tr>\n",
       "      <th>9995</th>\n",
       "      <td>[[-8.614701,41.140917],[-8.614053,41.14116],[-...</td>\n",
       "    </tr>\n",
       "    <tr>\n",
       "      <th>9996</th>\n",
       "      <td>[[-8.609661,41.160222],[-8.609643,41.160258],[...</td>\n",
       "    </tr>\n",
       "    <tr>\n",
       "      <th>9997</th>\n",
       "      <td>[[-8.644932,41.162706],[-8.64495,41.162958],[-...</td>\n",
       "    </tr>\n",
       "    <tr>\n",
       "      <th>9998</th>\n",
       "      <td>[[-8.639991,41.159637],[-8.639955,41.159646],[...</td>\n",
       "    </tr>\n",
       "    <tr>\n",
       "      <th>9999</th>\n",
       "      <td>[[-8.582544,41.180616],[-8.582346,41.180508],[...</td>\n",
       "    </tr>\n",
       "  </tbody>\n",
       "</table>\n",
       "<p>10000 rows × 1 columns</p>\n",
       "</div>"
      ],
      "text/plain": [
       "                                               POLYLINE\n",
       "0     [[-8.628219,41.165046],[-8.62839,41.164956],[-...\n",
       "1                               [[-8.630451,41.167944]]\n",
       "2     [[-8.585793,41.148954],[-8.586387,41.14899],[-...\n",
       "3     [[-8.613675,41.141556],[-8.613846,41.141142],[...\n",
       "4     [[-8.648217,41.154408],[-8.647191,41.155362],[...\n",
       "...                                                 ...\n",
       "9995  [[-8.614701,41.140917],[-8.614053,41.14116],[-...\n",
       "9996  [[-8.609661,41.160222],[-8.609643,41.160258],[...\n",
       "9997  [[-8.644932,41.162706],[-8.64495,41.162958],[-...\n",
       "9998  [[-8.639991,41.159637],[-8.639955,41.159646],[...\n",
       "9999  [[-8.582544,41.180616],[-8.582346,41.180508],[...\n",
       "\n",
       "[10000 rows x 1 columns]"
      ]
     },
     "execution_count": 66,
     "metadata": {},
     "output_type": "execute_result"
    }
   ],
   "source": [
    "train_1.reset_index(drop=True,inplace=True)\n",
    "train_1"
   ]
  },
  {
   "cell_type": "code",
   "execution_count": 67,
   "id": "fc696485",
   "metadata": {},
   "outputs": [
    {
     "data": {
      "text/html": [
       "<div>\n",
       "<style scoped>\n",
       "    .dataframe tbody tr th:only-of-type {\n",
       "        vertical-align: middle;\n",
       "    }\n",
       "\n",
       "    .dataframe tbody tr th {\n",
       "        vertical-align: top;\n",
       "    }\n",
       "\n",
       "    .dataframe thead th {\n",
       "        text-align: right;\n",
       "    }\n",
       "</style>\n",
       "<table border=\"1\" class=\"dataframe\">\n",
       "  <thead>\n",
       "    <tr style=\"text-align: right;\">\n",
       "      <th></th>\n",
       "      <th>POLYLINE</th>\n",
       "      <th>index</th>\n",
       "    </tr>\n",
       "  </thead>\n",
       "  <tbody>\n",
       "    <tr>\n",
       "      <th>0</th>\n",
       "      <td>[[-8.628219,41.165046],[-8.62839,41.164956],[-...</td>\n",
       "      <td>0</td>\n",
       "    </tr>\n",
       "    <tr>\n",
       "      <th>1</th>\n",
       "      <td>[[-8.630451,41.167944]]</td>\n",
       "      <td>1</td>\n",
       "    </tr>\n",
       "    <tr>\n",
       "      <th>2</th>\n",
       "      <td>[[-8.585793,41.148954],[-8.586387,41.14899],[-...</td>\n",
       "      <td>2</td>\n",
       "    </tr>\n",
       "    <tr>\n",
       "      <th>3</th>\n",
       "      <td>[[-8.613675,41.141556],[-8.613846,41.141142],[...</td>\n",
       "      <td>3</td>\n",
       "    </tr>\n",
       "    <tr>\n",
       "      <th>4</th>\n",
       "      <td>[[-8.648217,41.154408],[-8.647191,41.155362],[...</td>\n",
       "      <td>4</td>\n",
       "    </tr>\n",
       "    <tr>\n",
       "      <th>...</th>\n",
       "      <td>...</td>\n",
       "      <td>...</td>\n",
       "    </tr>\n",
       "    <tr>\n",
       "      <th>9995</th>\n",
       "      <td>[[-8.614701,41.140917],[-8.614053,41.14116],[-...</td>\n",
       "      <td>9995</td>\n",
       "    </tr>\n",
       "    <tr>\n",
       "      <th>9996</th>\n",
       "      <td>[[-8.609661,41.160222],[-8.609643,41.160258],[...</td>\n",
       "      <td>9996</td>\n",
       "    </tr>\n",
       "    <tr>\n",
       "      <th>9997</th>\n",
       "      <td>[[-8.644932,41.162706],[-8.64495,41.162958],[-...</td>\n",
       "      <td>9997</td>\n",
       "    </tr>\n",
       "    <tr>\n",
       "      <th>9998</th>\n",
       "      <td>[[-8.639991,41.159637],[-8.639955,41.159646],[...</td>\n",
       "      <td>9998</td>\n",
       "    </tr>\n",
       "    <tr>\n",
       "      <th>9999</th>\n",
       "      <td>[[-8.582544,41.180616],[-8.582346,41.180508],[...</td>\n",
       "      <td>9999</td>\n",
       "    </tr>\n",
       "  </tbody>\n",
       "</table>\n",
       "<p>10000 rows × 2 columns</p>\n",
       "</div>"
      ],
      "text/plain": [
       "                                               POLYLINE  index\n",
       "0     [[-8.628219,41.165046],[-8.62839,41.164956],[-...      0\n",
       "1                               [[-8.630451,41.167944]]      1\n",
       "2     [[-8.585793,41.148954],[-8.586387,41.14899],[-...      2\n",
       "3     [[-8.613675,41.141556],[-8.613846,41.141142],[...      3\n",
       "4     [[-8.648217,41.154408],[-8.647191,41.155362],[...      4\n",
       "...                                                 ...    ...\n",
       "9995  [[-8.614701,41.140917],[-8.614053,41.14116],[-...   9995\n",
       "9996  [[-8.609661,41.160222],[-8.609643,41.160258],[...   9996\n",
       "9997  [[-8.644932,41.162706],[-8.64495,41.162958],[-...   9997\n",
       "9998  [[-8.639991,41.159637],[-8.639955,41.159646],[...   9998\n",
       "9999  [[-8.582544,41.180616],[-8.582346,41.180508],[...   9999\n",
       "\n",
       "[10000 rows x 2 columns]"
      ]
     },
     "execution_count": 67,
     "metadata": {},
     "output_type": "execute_result"
    }
   ],
   "source": [
    "train_1[\"index\"] = range(len(train_1))\n",
    "train_1"
   ]
  },
  {
   "cell_type": "code",
   "execution_count": null,
   "id": "24a67b85",
   "metadata": {},
   "outputs": [],
   "source": []
  }
 ],
 "metadata": {
  "kernelspec": {
   "display_name": "Python 3 (ipykernel)",
   "language": "python",
   "name": "python3"
  },
  "language_info": {
   "codemirror_mode": {
    "name": "ipython",
    "version": 3
   },
   "file_extension": ".py",
   "mimetype": "text/x-python",
   "name": "python",
   "nbconvert_exporter": "python",
   "pygments_lexer": "ipython3",
   "version": "3.9.7"
  }
 },
 "nbformat": 4,
 "nbformat_minor": 5
}
