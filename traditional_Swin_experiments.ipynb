{
  "cells": [
    {
      "cell_type": "markdown",
      "metadata": {
        "id": "view-in-github",
        "colab_type": "text"
      },
      "source": [
        "<a href=\"https://colab.research.google.com/github/Kyriezxc/CIS522_Project/blob/main/traditional_Swin_experiments.ipynb\" target=\"_parent\"><img src=\"https://colab.research.google.com/assets/colab-badge.svg\" alt=\"Open In Colab\"/></a>"
      ]
    },
    {
      "cell_type": "code",
      "execution_count": 1,
      "metadata": {
        "colab": {
          "base_uri": "https://localhost:8080/"
        },
        "id": "8BFipdcUuQOe",
        "outputId": "58363b58-d37d-4612-c29f-59d768581ec4"
      },
      "outputs": [
        {
          "output_type": "stream",
          "name": "stdout",
          "text": [
            "Mounted at /content/drive\n"
          ]
        }
      ],
      "source": [
        "from google.colab import drive\n",
        "drive.mount('/content/drive', force_remount=True)"
      ],
      "id": "8BFipdcUuQOe"
    },
    {
      "cell_type": "code",
      "source": [
        "!pip install timm > /dev/null"
      ],
      "metadata": {
        "id": "cZkNQBVGNNRh"
      },
      "id": "cZkNQBVGNNRh",
      "execution_count": 2,
      "outputs": []
    },
    {
      "cell_type": "code",
      "execution_count": 3,
      "metadata": {
        "colab": {
          "base_uri": "https://localhost:8080/"
        },
        "id": "M-z94KSWuaZu",
        "outputId": "912217e5-265c-48d3-f831-0b537557ab40"
      },
      "outputs": [
        {
          "output_type": "stream",
          "name": "stdout",
          "text": [
            "/content/drive/MyDrive/Colab Notebooks/CIS522_Project\n"
          ]
        }
      ],
      "source": [
        "%cd \"/content/drive/MyDrive/Colab Notebooks/CIS522_Project\""
      ],
      "id": "M-z94KSWuaZu"
    },
    {
      "cell_type": "code",
      "execution_count": 4,
      "metadata": {
        "id": "d1ea8790-e5c3-44da-a27e-b1929b70cbaa"
      },
      "outputs": [],
      "source": [
        "import numpy as np\n",
        "import pandas as pd\n",
        "import matplotlib.pyplot as plt\n",
        "from sklearn.model_selection import train_test_split\n",
        "import torch\n",
        "import torch.nn as nn\n",
        "import torch.nn.functional as F\n",
        "import torch.utils.checkpoint as checkpoint\n",
        "from torch.utils.data import Dataset, DataLoader\n",
        "from tqdm.notebook import tqdm\n",
        "from timm.models.layers import DropPath, to_2tuple, trunc_normal_\n",
        "\n",
        "SEED = 2023\n",
        "DEVICE = torch.device(\"cuda\" if torch.cuda.is_available() else \"cpu\")"
      ],
      "id": "d1ea8790-e5c3-44da-a27e-b1929b70cbaa"
    },
    {
      "cell_type": "code",
      "source": [
        "# @title Set random seed\n",
        "\n",
        "# @markdown Executing `set_seed(seed=seed)` you are setting the seed\n",
        "\n",
        "# For DL its critical to set the random seed so that students can have a\n",
        "# baseline to compare their results to expected results.\n",
        "# Read more here: https://pytorch.org/docs/stable/notes/randomness.html\n",
        "\n",
        "# Call `set_seed` function in the exercises to ensure reproducibility.\n",
        "import random\n",
        "\n",
        "def set_seed(seed=None, seed_torch=True):\n",
        "    \"\"\"\n",
        "    Function that controls randomness. NumPy and random modules must be imported.\n",
        "\n",
        "    Args:\n",
        "      seed : Integer\n",
        "        A non-negative integer that defines the random state. Default is `None`.\n",
        "      seed_torch : Boolean\n",
        "        If `True` sets the random seed for pytorch tensors, so pytorch module\n",
        "        must be imported. Default is `True`.\n",
        "\n",
        "    Returns:\n",
        "      Nothing.\n",
        "    \"\"\"\n",
        "    if seed is None:\n",
        "        seed = np.random.choice(2**32)\n",
        "    random.seed(seed)\n",
        "    np.random.seed(seed)\n",
        "    if seed_torch:\n",
        "        torch.manual_seed(seed)\n",
        "        torch.cuda.manual_seed_all(seed)\n",
        "        torch.cuda.manual_seed(seed)\n",
        "        torch.backends.cudnn.benchmark = False\n",
        "        torch.backends.cudnn.deterministic = True\n",
        "\n",
        "    print(f\"Random seed {seed} has been set.\")\n",
        "\n",
        "\n",
        "# In case that `DataLoader` is used\n",
        "def seed_worker(worker_id):\n",
        "    \"\"\"\n",
        "    DataLoader will reseed workers following randomness in\n",
        "    multi-process data loading algorithm.\n",
        "\n",
        "    Args:\n",
        "      worker_id: integer\n",
        "        ID of subprocess to seed. 0 means that\n",
        "        the data will be loaded in the main process\n",
        "        Refer: https://pytorch.org/docs/stable/data.html#data-loading-randomness for more details\n",
        "\n",
        "    Returns:\n",
        "      Nothing\n",
        "    \"\"\"\n",
        "    worker_seed = torch.initial_seed() % 2**32\n",
        "    np.random.seed(worker_seed)\n",
        "    random.seed(worker_seed)\n",
        "\n",
        "set_seed(SEED)"
      ],
      "metadata": {
        "colab": {
          "base_uri": "https://localhost:8080/"
        },
        "cellView": "form",
        "id": "aZCMqIAqkLUT",
        "outputId": "a427d3a4-ff41-4175-a974-33b24a45aecf"
      },
      "id": "aZCMqIAqkLUT",
      "execution_count": 5,
      "outputs": [
        {
          "output_type": "stream",
          "name": "stdout",
          "text": [
            "Random seed 2023 has been set.\n"
          ]
        }
      ]
    },
    {
      "cell_type": "code",
      "execution_count": 6,
      "metadata": {
        "id": "e4bdab8c-0706-48d0-aa4a-24df14ff51d1"
      },
      "outputs": [],
      "source": [
        "train = pd.read_csv(\"data/train.csv\")\n",
        "# train = pd.read_csv('/content/drive/MyDrive/Colab Notebooks/train.csv')\n",
        "# Filter missing data and useless columns\n",
        "train = train[train[\"MISSING_DATA\"] == False]\n",
        "train = train[train[\"POLYLINE\"].map(len) > 2]\n",
        "train = train[[\"POLYLINE\"]]\n",
        "# Choose 100000 rows randomly from dataset to run\n",
        "train_1 = train.sample(100000, random_state=SEED)"
      ],
      "id": "e4bdab8c-0706-48d0-aa4a-24df14ff51d1"
    },
    {
      "cell_type": "markdown",
      "metadata": {
        "id": "oGpwiJ65wkQs"
      },
      "source": [
        "# Pre-processing"
      ],
      "id": "oGpwiJ65wkQs"
    },
    {
      "cell_type": "code",
      "execution_count": 7,
      "metadata": {
        "id": "86249f42-b8e5-4cbf-a57b-ad96743ae324"
      },
      "outputs": [],
      "source": [
        "def _change_type(polyline):\n",
        "    polyline = polyline[2:-2]\n",
        "    cords_raw = polyline.split(\"],[\")\n",
        "    cords = []\n",
        "    max_lon, min_lon, max_lat, min_lat = np.float32(\"-inf\"), np.float32(\"inf\"), np.float32(\"-inf\"), np.float32(\"inf\")\n",
        "    for cord in cords_raw:\n",
        "        cords.append([np.float32(loc) for loc in cord.split(\",\")])\n",
        "        max_lon = max(max_lon, cords[-1][0])\n",
        "        min_lon = min(min_lon, cords[-1][0])\n",
        "        max_lat = max(max_lat, cords[-1][1])\n",
        "        min_lat = min(min_lat, cords[-1][1])\n",
        "    return pd.Series({\"POLYLINE\": cords, \"max_lon\": max_lon, \"min_lon\": min_lon, \"max_lat\": max_lat, \"min_lat\": min_lat})"
      ],
      "id": "86249f42-b8e5-4cbf-a57b-ad96743ae324"
    },
    {
      "cell_type": "code",
      "execution_count": 8,
      "metadata": {
        "id": "98cb2f87"
      },
      "outputs": [],
      "source": [
        "def filter_map(train, max_lat, min_lat, max_lon, min_lon):\n",
        "    train.reset_index(drop=True, inplace=True)\n",
        "    return train[(train[\"max_lat\"] <= max_lat) & (train[\"min_lat\"] >= min_lat) &\n",
        "                 (train[\"max_lon\"] <= max_lon) & (train[\"min_lon\"] >= min_lon)]"
      ],
      "id": "98cb2f87"
    },
    {
      "cell_type": "code",
      "execution_count": 9,
      "metadata": {
        "id": "9e5f2409-e5e6-44c0-a872-bdd916a5da45"
      },
      "outputs": [],
      "source": [
        "def _normalize(polyline, max_lon, min_lon, max_lat, min_lat, m):\n",
        "    final = []\n",
        "    for cord in polyline:\n",
        "        normalized = [(cord[0]-min_lon)/(max_lon-min_lon), (cord[1] - min_lat) / (max_lat - min_lat)]\n",
        "        normalized[0] = min(m - 1, int(normalized[0] * m))\n",
        "        normalized[1] = min(m - 1, int(normalized[1] * m))\n",
        "        final.append(normalized)\n",
        "    return pd.Series({\"POLYLINE_INIT\": final[:-1], \"POLYLINE_DEST\": final[-1]})"
      ],
      "id": "9e5f2409-e5e6-44c0-a872-bdd916a5da45"
    },
    {
      "cell_type": "code",
      "execution_count": 10,
      "metadata": {
        "id": "f68deddf-0156-43c3-9859-87945f56de18"
      },
      "outputs": [],
      "source": [
        "def _to_matrix(polyline, m, activation=lambda x: x):\n",
        "    mat = np.zeros((m, m), dtype=np.float32)\n",
        "    n = len(polyline)\n",
        "    for i in range(n):\n",
        "        x = polyline[i][0]\n",
        "        y = polyline[i][1]\n",
        "        mat[y][x] = activation((i + 1) / n)\n",
        "    return mat"
      ],
      "id": "f68deddf-0156-43c3-9859-87945f56de18"
    },
    {
      "cell_type": "code",
      "execution_count": 11,
      "metadata": {
        "id": "6e2bfcf4-5f23-452d-9b23-d1d0c02085d5"
      },
      "outputs": [],
      "source": [
        "def transform(df_train, m):\n",
        "    # Change type\n",
        "    changed = df_train[\"POLYLINE\"].apply(_change_type)\n",
        "    # Filter map for max/min long/lat\n",
        "    changed = filter_map(changed, 41.2, 41.1, -8.6, -8.7)  #previous (41.2,41,,)\n",
        "    # Get min-max\n",
        "    max_longitude = changed[\"max_lon\"].max()\n",
        "    min_longitude = changed[\"min_lon\"].min()\n",
        "    max_latitude = changed[\"max_lat\"].max()\n",
        "    min_latitude = changed[\"min_lat\"].min()\n",
        "    # Normalize min-max and split\n",
        "    cleaned = changed[\"POLYLINE\"].apply(_normalize, args=(max_longitude, min_longitude, max_latitude, min_latitude, m))\n",
        "    # Transform to matrices\n",
        "    cleaned[\"MATRIX_LIN\"] = cleaned[\"POLYLINE_INIT\"].apply(_to_matrix, args=(m,))\n",
        "    cleaned[\"MATRIX_QUA\"] = cleaned[\"POLYLINE_INIT\"].apply(_to_matrix, args=(m, lambda x: x ** 2))\n",
        "    cleaned[\"MATRIX_CON\"] = cleaned[\"POLYLINE_INIT\"].apply(_to_matrix, args=(m, lambda x: 1))\n",
        "    return cleaned"
      ],
      "id": "6e2bfcf4-5f23-452d-9b23-d1d0c02085d5"
    },
    {
      "cell_type": "code",
      "execution_count": 12,
      "metadata": {
        "colab": {
          "base_uri": "https://localhost:8080/"
        },
        "id": "7e561371-815f-461a-9722-399e7be64a06",
        "outputId": "72a877c3-84ff-4669-d94b-ed893fbab538"
      },
      "outputs": [
        {
          "output_type": "execute_result",
          "data": {
            "text/plain": [
              "57382"
            ]
          },
          "metadata": {},
          "execution_count": 12
        }
      ],
      "source": [
        "transformed = transform(train_1, 40)\n",
        "len(transformed)"
      ],
      "id": "7e561371-815f-461a-9722-399e7be64a06"
    },
    {
      "cell_type": "markdown",
      "metadata": {
        "id": "Z01-7MPxwwI8"
      },
      "source": [
        "\n",
        "\n",
        "# Model Experiments"
      ],
      "id": "Z01-7MPxwwI8"
    },
    {
      "cell_type": "code",
      "execution_count": 13,
      "metadata": {
        "id": "ee19dc38-f35a-4672-9705-659aa6900364"
      },
      "outputs": [],
      "source": [
        "def sequence2tensor(sequence, seqlen=200):\n",
        "    if len(sequence) > seqlen:\n",
        "        sequence = sequence[-seqlen:]\n",
        "    tensor = torch.zeros(seqlen, 3, dtype=torch.float32)\n",
        "    for i, point in enumerate(sequence, start=seqlen-len(sequence)):\n",
        "        tensor[i, :2] = torch.Tensor(point)\n",
        "        tensor[i, 2] = 1  # 1 for in the sequence, 0 for out of the sequence\n",
        "    return tensor\n",
        "\n",
        "def matrix2tensor(matrix):\n",
        "    return torch.Tensor(matrix)\n",
        "\n",
        "def output2tensor(output, classification=False):\n",
        "    if classification:\n",
        "        return output[0] * 40 + output[1]\n",
        "    return torch.Tensor(output)"
      ],
      "id": "ee19dc38-f35a-4672-9705-659aa6900364"
    },
    {
      "cell_type": "code",
      "execution_count": 14,
      "metadata": {
        "id": "VH0Ofq0EM8CV"
      },
      "outputs": [],
      "source": [
        "idx_train, idx_test = train_test_split(range(len(transformed)), test_size=0.4, random_state=SEED)\n",
        "idx_valid, idx_test = train_test_split(idx_test, test_size=0.5, random_state=SEED)"
      ],
      "id": "VH0Ofq0EM8CV"
    },
    {
      "cell_type": "code",
      "execution_count": 15,
      "metadata": {
        "id": "JBRo85htQFxA"
      },
      "outputs": [],
      "source": [
        "def train_model(model, train_data, valid_data, test_data, lr=0.001, epochs=20, device=DEVICE):\n",
        "    train_loader = DataLoader(train_data, batch_size=64, shuffle=True, worker_init_fn=seed_worker)\n",
        "    valid_loader = DataLoader(valid_data, batch_size=64, shuffle=True, worker_init_fn=seed_worker)\n",
        "    test_loader = DataLoader(test_data, batch_size=64, shuffle=True, worker_init_fn=seed_worker)\n",
        "    \n",
        "    model.to(device)\n",
        "    optimizer = torch.optim.Adam(model.parameters(), lr=lr)\n",
        "    criterion = nn.MSELoss()\n",
        "\n",
        "    train_losses, valid_losses = [], []\n",
        "    for epoch in tqdm(range(epochs)):\n",
        "        model.train()\n",
        "        train_loss = []\n",
        "        for in_, out in train_loader:\n",
        "            in_, out = in_.to(device), out.to(device)\n",
        "            optimizer.zero_grad()\n",
        "            pred = model(in_)\n",
        "            loss = criterion(pred, out)\n",
        "            loss.backward()\n",
        "            optimizer.step()\n",
        "            train_loss.append(loss.item())\n",
        "        train_losses.append(np.mean(train_loss))\n",
        "        model.eval()\n",
        "        valid_loss = []\n",
        "        for in_, out in valid_loader:\n",
        "            in_, out = in_.to(device), out.to(device)\n",
        "            pred = model(in_)\n",
        "            loss = criterion(pred, out)\n",
        "            valid_loss.append(loss.item())\n",
        "        valid_losses.append(np.mean(valid_loss))\n",
        "    print(\"Last epoch train L2 loss: {}\".format(train_losses[-1]))\n",
        "    print(\"Last epoch validation L2 loss: {}\".format(valid_losses[-1]))\n",
        "    plt.figure()\n",
        "    plt.plot(train_losses, color=\"blue\")\n",
        "    plt.plot(valid_losses, color=\"red\")\n",
        "    plt.show()\n",
        "    model.eval()\n",
        "    test_loss = []\n",
        "    for in_, out in test_loader:\n",
        "        in_, out = in_.to(device), out.to(device)\n",
        "        pred = model(in_)\n",
        "        loss = criterion(pred, out)\n",
        "        test_loss.append(loss.item())\n",
        "    print(\"Test loss: {}\".format(np.mean(test_loss)))"
      ],
      "id": "JBRo85htQFxA"
    },
    {
      "cell_type": "code",
      "source": [
        "output_tensor = transformed[\"POLYLINE_DEST\"].apply(output2tensor).values\n",
        "out_train, out_valid, out_test = output_tensor[idx_train], output_tensor[idx_valid], output_tensor[idx_test]"
      ],
      "metadata": {
        "id": "BVcVWNM1yB7j"
      },
      "id": "BVcVWNM1yB7j",
      "execution_count": 16,
      "outputs": []
    },
    {
      "cell_type": "markdown",
      "metadata": {
        "id": "0vtsWSXIMZzF"
      },
      "source": [
        "## Matrix input with linear method"
      ],
      "id": "0vtsWSXIMZzF"
    },
    {
      "cell_type": "code",
      "source": [
        "matrix_tensor = transformed[\"MATRIX_LIN\"].apply(matrix2tensor).values\n",
        "mat_train, mat_valid, mat_test = matrix_tensor[idx_train], matrix_tensor[idx_valid], matrix_tensor[idx_test]"
      ],
      "metadata": {
        "id": "mMO27Wcs0EC3"
      },
      "id": "mMO27Wcs0EC3",
      "execution_count": 17,
      "outputs": []
    },
    {
      "cell_type": "code",
      "execution_count": 18,
      "metadata": {
        "id": "fjpIojbC5E2h"
      },
      "outputs": [],
      "source": [
        "class MatrixDataset(Dataset):\n",
        "    def __init__(self, matrix, output):\n",
        "        self.matrix = matrix\n",
        "        self.output = output\n",
        "\n",
        "    def __len__(self):\n",
        "        return len(self.matrix)\n",
        "\n",
        "    def __getitem__(self, idx):\n",
        "        return self.matrix[idx], self.output[idx]"
      ],
      "id": "fjpIojbC5E2h"
    },
    {
      "cell_type": "code",
      "execution_count": 19,
      "metadata": {
        "id": "hZAbbjWeOby-"
      },
      "outputs": [],
      "source": [
        "train_data = MatrixDataset(mat_train, out_train)\n",
        "valid_data = MatrixDataset(mat_valid, out_valid)\n",
        "test_data = MatrixDataset(mat_test, out_test)"
      ],
      "id": "hZAbbjWeOby-"
    },
    {
      "cell_type": "markdown",
      "source": [
        "This code is partly from: https://github.com/microsoft/Swin-Transformer"
      ],
      "metadata": {
        "id": "2MDjKYnXQ1TT"
      },
      "id": "2MDjKYnXQ1TT"
    },
    {
      "cell_type": "code",
      "execution_count": 20,
      "metadata": {
        "id": "IhBNJ5Lw2kFM"
      },
      "outputs": [],
      "source": [
        "class Mlp(nn.Module):\n",
        "    def __init__(self, in_features, hidden_features=None, out_features=None, act_layer=nn.GELU, drop=0.):\n",
        "        super().__init__()\n",
        "        out_features = out_features or in_features\n",
        "        hidden_features = hidden_features or in_features\n",
        "        self.fc1 = nn.Linear(in_features, hidden_features)\n",
        "        self.act = act_layer()\n",
        "        self.fc2 = nn.Linear(hidden_features, out_features)\n",
        "        self.drop = nn.Dropout(drop)\n",
        " \n",
        "    def forward(self, x):\n",
        "        x = self.fc1(x)\n",
        "        x = self.act(x)\n",
        "        x = self.drop(x)\n",
        "        x = self.fc2(x)\n",
        "        x = self.drop(x)\n",
        "        return x\n",
        "\n",
        "\n",
        "def window_partition(x, window_size):\n",
        "    \"\"\"\n",
        "    Args:\n",
        "        x: (B, H, W, C)\n",
        "        window_size (int): window size\n",
        "    Returns:\n",
        "        windows: (num_windows*B, window_size, window_size, C)\n",
        "    \"\"\"\n",
        "    B, H, W, C = x.shape\n",
        "    x = x.view(B, H // window_size, window_size, W // window_size, window_size, C)\n",
        "    windows = x.permute(0, 1, 3, 2, 4, 5).contiguous().view(-1, window_size, window_size, C)\n",
        "    return windows\n",
        "\n",
        "\n",
        "def window_reverse(windows, window_size, H, W):\n",
        "    \"\"\"\n",
        "    Args:\n",
        "        windows: (num_windows*B, window_size, window_size, C)\n",
        "        window_size (int): Window size\n",
        "        H (int): Height of image\n",
        "        W (int): Width of image\n",
        "    Returns:\n",
        "        x: (B, H, W, C)\n",
        "    \"\"\"\n",
        "    B = int(windows.shape[0] / (H * W / window_size / window_size))\n",
        "    x = windows.view(B, H // window_size, W // window_size, window_size, window_size, -1)\n",
        "    x = x.permute(0, 1, 3, 2, 4, 5).contiguous().view(B, H, W, -1)\n",
        "    return x\n",
        "\n",
        "\n",
        "class SwinMLPBlock(nn.Module):\n",
        "    r\"\"\" Swin MLP Block.\n",
        "    Args:\n",
        "        dim (int): Number of input channels.\n",
        "        input_resolution (tuple[int]): Input resulotion.\n",
        "        num_heads (int): Number of attention heads.\n",
        "        window_size (int): Window size.\n",
        "        shift_size (int): Shift size for SW-MSA.\n",
        "        mlp_ratio (float): Ratio of mlp hidden dim to embedding dim.\n",
        "        drop (float, optional): Dropout rate. Default: 0.0\n",
        "        drop_path (float, optional): Stochastic depth rate. Default: 0.0\n",
        "        act_layer (nn.Module, optional): Activation layer. Default: nn.GELU\n",
        "        norm_layer (nn.Module, optional): Normalization layer.  Default: nn.LayerNorm\n",
        "    \"\"\"\n",
        " \n",
        "    def __init__(self, dim, input_resolution, num_heads, window_size=2, shift_size=0,\n",
        "                 mlp_ratio=4., drop=0., drop_path=0.,\n",
        "                 act_layer=nn.GELU, norm_layer=nn.LayerNorm):\n",
        "        super().__init__()\n",
        "        self.dim = dim\n",
        "        self.input_resolution = input_resolution\n",
        "        self.num_heads = num_heads\n",
        "        self.window_size = window_size\n",
        "        self.shift_size = shift_size\n",
        "        self.mlp_ratio = mlp_ratio\n",
        "        if min(self.input_resolution) <= self.window_size:\n",
        "            # if window size is larger than input resolution, we don't partition windows\n",
        "            self.shift_size = 0\n",
        "            self.window_size = min(self.input_resolution)\n",
        "        assert 0 <= self.shift_size < self.window_size, \"shift_size must in 0-window_size\"\n",
        " \n",
        "        self.padding = [self.window_size - self.shift_size, self.shift_size,\n",
        "                        self.window_size - self.shift_size, self.shift_size]  # P_l,P_r,P_t,P_b\n",
        " \n",
        "        self.norm1 = norm_layer(dim)\n",
        "        # use group convolution to implement multi-head MLP\n",
        "        self.spatial_mlp = nn.Conv1d(self.num_heads * self.window_size ** 2,\n",
        "                                     self.num_heads * self.window_size ** 2,\n",
        "                                     kernel_size=1,\n",
        "                                     groups=self.num_heads)\n",
        " \n",
        "        self.drop_path = DropPath(drop_path) if drop_path > 0. else nn.Identity()\n",
        "        self.norm2 = norm_layer(dim)\n",
        "        mlp_hidden_dim = int(dim * mlp_ratio)\n",
        "        self.mlp = Mlp(in_features=dim, hidden_features=mlp_hidden_dim, act_layer=act_layer, drop=drop)\n",
        " \n",
        "    def forward(self, x):\n",
        "        H, W = self.input_resolution\n",
        "        B, L, C = x.shape\n",
        "        assert L == H * W, \"input feature has wrong size\"\n",
        " \n",
        "        shortcut = x\n",
        "        x = self.norm1(x)\n",
        "        x = x.view(B, H, W, C)\n",
        " \n",
        "        # shift\n",
        "        if self.shift_size > 0:\n",
        "            P_l, P_r, P_t, P_b = self.padding\n",
        "            shifted_x = F.pad(x, [0, 0, P_l, P_r, P_t, P_b], \"constant\", 0)\n",
        "        else:\n",
        "            shifted_x = x\n",
        "        _, _H, _W, _ = shifted_x.shape\n",
        " \n",
        "        # partition windows\n",
        "        x_windows = window_partition(shifted_x, self.window_size)  # nW*B, window_size, window_size, C\n",
        "        x_windows = x_windows.view(-1, self.window_size * self.window_size, C)  # nW*B, window_size*window_size, C\n",
        " \n",
        "        # Window/Shifted-Window Spatial MLP\n",
        "        x_windows_heads = x_windows.view(-1, self.window_size * self.window_size, self.num_heads, C // self.num_heads)\n",
        "        x_windows_heads = x_windows_heads.transpose(1, 2)  # nW*B, nH, window_size*window_size, C//nH\n",
        "        x_windows_heads = x_windows_heads.reshape(-1, self.num_heads * self.window_size * self.window_size,\n",
        "                                                  C // self.num_heads)\n",
        "        spatial_mlp_windows = self.spatial_mlp(x_windows_heads)  # nW*B, nH*window_size*window_size, C//nH\n",
        "        spatial_mlp_windows = spatial_mlp_windows.view(-1, self.num_heads, self.window_size * self.window_size,\n",
        "                                                       C // self.num_heads).transpose(1, 2)\n",
        "        spatial_mlp_windows = spatial_mlp_windows.reshape(-1, self.window_size * self.window_size, C)\n",
        " \n",
        "        # merge windows\n",
        "        spatial_mlp_windows = spatial_mlp_windows.reshape(-1, self.window_size, self.window_size, C)\n",
        "        shifted_x = window_reverse(spatial_mlp_windows, self.window_size, _H, _W)  # B H' W' C\n",
        " \n",
        "        # reverse shift\n",
        "        if self.shift_size > 0:\n",
        "            P_l, P_r, P_t, P_b = self.padding\n",
        "            x = shifted_x[:, P_t:-P_b, P_l:-P_r, :].contiguous()\n",
        "        else:\n",
        "            x = shifted_x\n",
        "        x = x.view(B, H * W, C)\n",
        " \n",
        "        # FFN\n",
        "        x = shortcut + self.drop_path(x)\n",
        "        x = x + self.drop_path(self.mlp(self.norm2(x)))\n",
        " \n",
        "        return x\n",
        " \n",
        "    def extra_repr(self) -> str:\n",
        "        return f\"dim={self.dim}, input_resolution={self.input_resolution}, num_heads={self.num_heads}, \" \\\n",
        "               f\"window_size={self.window_size}, shift_size={self.shift_size}, mlp_ratio={self.mlp_ratio}\"\n",
        " \n",
        "    def flops(self):\n",
        "        flops = 0\n",
        "        H, W = self.input_resolution\n",
        "        # norm1\n",
        "        flops += self.dim * H * W\n",
        " \n",
        "        # Window/Shifted-Window Spatial MLP\n",
        "        if self.shift_size > 0:\n",
        "            nW = (H / self.window_size + 1) * (W / self.window_size + 1)\n",
        "        else:\n",
        "            nW = H * W / self.window_size / self.window_size\n",
        "        flops += nW * self.dim * (self.window_size * self.window_size) * (self.window_size * self.window_size)\n",
        "        # mlp\n",
        "        flops += 2 * H * W * self.dim * self.dim * self.mlp_ratio\n",
        "        # norm2\n",
        "        flops += self.dim * H * W\n",
        "        return flops\n",
        "\n",
        "\n",
        "class PatchMerging(nn.Module):\n",
        "    r\"\"\" Patch Merging Layer.\n",
        "    Args:\n",
        "        input_resolution (tuple[int]): Resolution of input feature.\n",
        "        dim (int): Number of input channels.\n",
        "        norm_layer (nn.Module, optional): Normalization layer.  Default: nn.LayerNorm\n",
        "    \"\"\"\n",
        " \n",
        "    def __init__(self, input_resolution, dim, norm_layer=nn.LayerNorm):\n",
        "        super().__init__()\n",
        "        self.input_resolution = input_resolution\n",
        "        self.dim = dim\n",
        "        self.reduction = nn.Linear(4 * dim, 2 * dim, bias=False)\n",
        "        self.norm = norm_layer(4 * dim)\n",
        " \n",
        "    def forward(self, x):\n",
        "        \"\"\"\n",
        "        x: B, H*W, C\n",
        "        \"\"\"\n",
        "        H, W = self.input_resolution\n",
        "        B, L, C = x.shape\n",
        "        assert L == H * W, \"input feature has wrong size\"\n",
        "        assert H % 2 == 0 and W % 2 == 0, f\"x size ({H}*{W}) are not even.\"\n",
        " \n",
        "        x = x.view(B, H, W, C)\n",
        " \n",
        "        x0 = x[:, 0::2, 0::2, :]  # B H/2 W/2 C\n",
        "        x1 = x[:, 1::2, 0::2, :]  # B H/2 W/2 C\n",
        "        x2 = x[:, 0::2, 1::2, :]  # B H/2 W/2 C\n",
        "        x3 = x[:, 1::2, 1::2, :]  # B H/2 W/2 C\n",
        "        x = torch.cat([x0, x1, x2, x3], -1)  # B H/2 W/2 4*C\n",
        "        x = x.view(B, -1, 4 * C)  # B H/2*W/2 4*C\n",
        " \n",
        "        x = self.norm(x)\n",
        "        x = self.reduction(x)\n",
        " \n",
        "        return x\n",
        " \n",
        "    def extra_repr(self) -> str:\n",
        "        return f\"input_resolution={self.input_resolution}, dim={self.dim}\"\n",
        " \n",
        "    def flops(self):\n",
        "        H, W = self.input_resolution\n",
        "        flops = H * W * self.dim\n",
        "        flops += (H // 2) * (W // 2) * 4 * self.dim * 2 * self.dim\n",
        "        return flops\n",
        "\n",
        "\n",
        "class BasicLayer(nn.Module):\n",
        "    \"\"\" A basic Swin MLP layer for one stage.\n",
        "    Args:\n",
        "        dim (int): Number of input channels.\n",
        "        input_resolution (tuple[int]): Input resolution.\n",
        "        depth (int): Number of blocks.\n",
        "        num_heads (int): Number of attention heads.\n",
        "        window_size (int): Local window size.\n",
        "        mlp_ratio (float): Ratio of mlp hidden dim to embedding dim.\n",
        "       drop (float, optional): Dropout rate. Default: 0.0\n",
        "        drop_path (float | tuple[float], optional): Stochastic depth rate. Default: 0.0\n",
        "        norm_layer (nn.Module, optional): Normalization layer. Default: nn.LayerNorm\n",
        "        downsample (nn.Module | None, optional): Downsample layer at the end of the layer. Default: None\n",
        "        use_checkpoint (bool): Whether to use checkpointing to save memory. Default: False.\n",
        "    \"\"\"\n",
        " \n",
        "    def __init__(self, dim, input_resolution, depth, num_heads, window_size,\n",
        "                 mlp_ratio=2, drop=0., drop_path=0.,\n",
        "                 norm_layer=nn.LayerNorm, downsample=None, use_checkpoint=False):\n",
        " \n",
        "        super().__init__()\n",
        "        self.dim = dim\n",
        "        self.input_resolution = input_resolution\n",
        "        self.depth = depth\n",
        "        self.use_checkpoint = use_checkpoint\n",
        " \n",
        "        # build blocks\n",
        "        self.blocks = nn.ModuleList([\n",
        "            SwinMLPBlock(dim=dim, input_resolution=input_resolution,\n",
        "                         num_heads=num_heads, window_size=window_size,\n",
        "                         shift_size=0 if (i % 2 == 0) else window_size // 2,\n",
        "                         mlp_ratio=mlp_ratio,\n",
        "                         drop=drop,\n",
        "                         drop_path=drop_path[i] if isinstance(drop_path, list) else drop_path,\n",
        "                         norm_layer=norm_layer)\n",
        "            for i in range(depth)])\n",
        " \n",
        "        # patch merging layer\n",
        "        if downsample is not None:\n",
        "            self.downsample = downsample(input_resolution, dim=dim, norm_layer=norm_layer)\n",
        "        else:\n",
        "            self.downsample = None\n",
        " \n",
        "    def forward(self, x):\n",
        "        for blk in self.blocks:\n",
        "            if self.use_checkpoint:\n",
        "                x = checkpoint.checkpoint(blk, x)\n",
        "            else:\n",
        "                x = blk(x)\n",
        "        if self.downsample is not None:\n",
        "            x = self.downsample(x)\n",
        "        return x\n",
        " \n",
        "    def extra_repr(self) -> str:\n",
        "        return f\"dim={self.dim}, input_resolution={self.input_resolution}, depth={self.depth}\"\n",
        " \n",
        "    def flops(self):\n",
        "        flops = 0\n",
        "        for blk in self.blocks:\n",
        "            flops += blk.flops()\n",
        "        if self.downsample is not None:\n",
        "            flops += self.downsample.flops()\n",
        "        return flops\n",
        "\n",
        "\n",
        "class PatchEmbed(nn.Module):\n",
        "    r\"\"\" Image to Patch Embedding\n",
        "    Args:\n",
        "        img_size (int): Image size.  Default: 224.\n",
        "        patch_size (int): Patch token size. Default: 4.\n",
        "        in_chans (int): Number of input image channels. Default: 3.\n",
        "        embed_dim (int): Number of linear projection output channels. Default: 96.\n",
        "        norm_layer (nn.Module, optional): Normalization layer. Default: None\n",
        "    \"\"\"\n",
        " \n",
        "    def __init__(self, img_size=40, patch_size=10, in_chans=1, embed_dim=96, norm_layer=None):\n",
        "        super().__init__()\n",
        "        img_size = to_2tuple(img_size)\n",
        "        patch_size = to_2tuple(patch_size)\n",
        "        patches_resolution = [img_size[0] // patch_size[0], img_size[1] // patch_size[1]]\n",
        "        self.img_size = img_size\n",
        "        self.patch_size = patch_size\n",
        "        self.patches_resolution = patches_resolution\n",
        "        self.num_patches = patches_resolution[0] * patches_resolution[1]\n",
        " \n",
        "        self.in_chans = in_chans\n",
        "        self.embed_dim = embed_dim\n",
        " \n",
        "        self.proj = nn.Conv2d(in_chans, embed_dim, kernel_size=patch_size, stride=patch_size)\n",
        "        if norm_layer is not None:\n",
        "            self.norm = norm_layer(embed_dim)\n",
        "        else:\n",
        "            self.norm = None\n",
        " \n",
        "    def forward(self, x):\n",
        "        B, C, H, W = x.shape\n",
        "        # FIXME look at relaxing size constraints\n",
        "        assert H == self.img_size[0] and W == self.img_size[1], \\\n",
        "            f\"Input image size ({H}*{W}) doesn't match model ({self.img_size[0]}*{self.img_size[1]}).\"\n",
        "        x = self.proj(x).flatten(2).transpose(1, 2)  # B Ph*Pw C\n",
        "        if self.norm is not None:\n",
        "            x = self.norm(x)\n",
        "        return x\n",
        " \n",
        "    def flops(self):\n",
        "        Ho, Wo = self.patches_resolution\n",
        "        flops = Ho * Wo * self.embed_dim * self.in_chans * (self.patch_size[0] * self.patch_size[1])\n",
        "        if self.norm is not None:\n",
        "            flops += Ho * Wo * self.embed_dim\n",
        "        return flops\n",
        "\n",
        "\n",
        "class SwinMLP(nn.Module):\n",
        "    r\"\"\" Swin MLP\n",
        "    Args:\n",
        "        img_size (int | tuple(int)): Input image size. Default 224\n",
        "        patch_size (int | tuple(int)): Patch size. Default: 4\n",
        "        in_chans (int): Number of input image channels. Default: 3\n",
        "        num_classes (int): Number of classes for classification head. Default: 1000\n",
        "        embed_dim (int): Patch embedding dimension. Default: 96\n",
        "        depths (tuple(int)): Depth of each Swin MLP layer.\n",
        "        num_heads (tuple(int)): Number of attention heads in different layers.\n",
        "        window_size (int): Window size. Default: 7\n",
        "        mlp_ratio (float): Ratio of mlp hidden dim to embedding dim. Default: 4\n",
        "        drop_rate (float): Dropout rate. Default: 0\n",
        "        drop_path_rate (float): Stochastic depth rate. Default: 0.1\n",
        "        norm_layer (nn.Module): Normalization layer. Default: nn.LayerNorm.\n",
        "        ape (bool): If True, add absolute position embedding to the patch embedding. Default: False\n",
        "        patch_norm (bool): If True, add normalization after patch embedding. Default: True\n",
        "        use_checkpoint (bool): Whether to use checkpointing to save memory. Default: False\n",
        "    \"\"\"\n",
        " \n",
        "    def __init__(self, img_size=40, patch_size=20, in_chans=1, num_classes=2,\n",
        "                 embed_dim=96, depths=[1], num_heads=[6],\n",
        "                 window_size=2, mlp_ratio=4., drop_rate=0., drop_path_rate=0.1,\n",
        "                 norm_layer=nn.LayerNorm, ape=False, patch_norm=False,\n",
        "                 use_checkpoint=False, **kwargs):\n",
        "        super().__init__()\n",
        " \n",
        "        self.num_classes = num_classes\n",
        "        self.num_layers = len(depths)\n",
        "        self.embed_dim = embed_dim\n",
        "        self.ape = ape\n",
        "        self.patch_norm = patch_norm\n",
        "        self.num_features = int(embed_dim * 2 ** (self.num_layers - 1))\n",
        "        self.mlp_ratio = mlp_ratio\n",
        " \n",
        "        # split image into non-overlapping patches\n",
        "        self.patch_embed = PatchEmbed(\n",
        "            img_size=img_size, patch_size=patch_size, in_chans=in_chans, embed_dim=embed_dim,\n",
        "            norm_layer=norm_layer if self.patch_norm else None)\n",
        "        num_patches = self.patch_embed.num_patches\n",
        "        patches_resolution = self.patch_embed.patches_resolution\n",
        "        self.patches_resolution = patches_resolution\n",
        " \n",
        "        # absolute position embedding\n",
        "        if self.ape:\n",
        "            self.absolute_pos_embed = nn.Parameter(torch.zeros(1, num_patches, embed_dim))\n",
        "            trunc_normal_(self.absolute_pos_embed, std=.02)\n",
        " \n",
        "        self.pos_drop = nn.Dropout(p=drop_rate)\n",
        " \n",
        "        # stochastic depth\n",
        "        dpr = [x.item() for x in torch.linspace(0, drop_path_rate, sum(depths))]  # stochastic depth decay rule\n",
        " \n",
        "        # build layers\n",
        "        self.layers = nn.ModuleList()\n",
        "        for i_layer in range(self.num_layers):\n",
        "            layer = BasicLayer(dim=int(embed_dim * 2 ** i_layer),\n",
        "                               input_resolution=(patches_resolution[0] // (2 ** i_layer),\n",
        "                                                 patches_resolution[1] // (2 ** i_layer)),\n",
        "                               depth=depths[i_layer],\n",
        "                               num_heads=num_heads[i_layer],\n",
        "                               window_size=window_size,\n",
        "                               mlp_ratio=self.mlp_ratio,\n",
        "                               drop=drop_rate,\n",
        "                               drop_path=dpr[sum(depths[:i_layer]):sum(depths[:i_layer + 1])],\n",
        "                               norm_layer=norm_layer,\n",
        "                               downsample=PatchMerging if (i_layer < self.num_layers - 1) else None,\n",
        "                               use_checkpoint=use_checkpoint)\n",
        "            self.layers.append(layer)\n",
        " \n",
        "        self.norm = norm_layer(self.num_features)\n",
        "        self.avgpool = nn.AdaptiveAvgPool1d(1)\n",
        "        self.head = nn.Linear(self.num_features, num_classes) if num_classes > 0 else nn.Identity()\n",
        " \n",
        "        self.apply(self._init_weights)\n",
        " \n",
        "    def _init_weights(self, m):\n",
        "        if isinstance(m, (nn.Linear, nn.Conv1d)):\n",
        "            trunc_normal_(m.weight, std=.02)\n",
        "            if m.bias is not None:\n",
        "                nn.init.constant_(m.bias, 0)\n",
        "        elif isinstance(m, nn.LayerNorm):\n",
        "            nn.init.constant_(m.bias, 0)\n",
        "            nn.init.constant_(m.weight, 1.0)\n",
        " \n",
        "    @torch.jit.ignore\n",
        "    def no_weight_decay(self):\n",
        "        return {'absolute_pos_embed'}\n",
        " \n",
        "    @torch.jit.ignore\n",
        "    def no_weight_decay_keywords(self):\n",
        "        return {'relative_position_bias_table'}\n",
        " \n",
        "    def forward_features(self, x):\n",
        "        x = self.patch_embed(x)\n",
        "        if self.ape:\n",
        "            x = x + self.absolute_pos_embed\n",
        "        x = self.pos_drop(x)\n",
        " \n",
        "        for layer in self.layers:\n",
        "            x = layer(x)\n",
        " \n",
        "        x = self.norm(x)  # B L C\n",
        "        x = self.avgpool(x.transpose(1, 2))  # B C 1\n",
        "        x = torch.flatten(x, 1)\n",
        "        return x\n",
        " \n",
        "    def forward(self, x):\n",
        "        x = self.forward_features(x)\n",
        "        x = self.head(x)\n",
        "        return x\n",
        " \n",
        "    def flops(self):\n",
        "        flops = 0\n",
        "        flops += self.patch_embed.flops()\n",
        "        for i, layer in enumerate(self.layers):\n",
        "            flops += layer.flops()\n",
        "        flops += self.num_features * self.patches_resolution[0] * self.patches_resolution[1] // (2 ** self.num_layers)\n",
        "        flops += self.num_features * self.num_classes\n",
        "        return flops"
      ],
      "id": "IhBNJ5Lw2kFM"
    },
    {
      "cell_type": "code",
      "execution_count": 21,
      "metadata": {
        "id": "Oa_EPZw73r2O"
      },
      "outputs": [],
      "source": [
        "class SwinNetCombined(nn.Module):\n",
        "    def __init__(self, model_name='swin_tiny_patch4_window7_224', pretrained=False, m=40, num_classes=2):\n",
        "        super().__init__()\n",
        "        self.model = SwinMLP(num_classes=num_classes)\n",
        "        # Replaced the final head layers in model with our own Linear layer\n",
        "        num_features = self.model.head.in_features\n",
        "        self.fully_connect = nn.Sequential(nn.Linear(128, 64),\n",
        "                                           nn.ReLU(),\n",
        "                                           nn.Linear(64, 2)\n",
        "                                          )\n",
        "        self.dropout = nn.Dropout(p=0.5)\n",
        "        self.proj = nn.Linear(m*m,224*224)\n",
        "        self.ac1 = nn.ReLU()\n",
        "    \n",
        "    def forward(self, x):\n",
        "        x = x.reshape(x.shape[0],1,40,40)\n",
        "        x = self.model(x)\n",
        "        return x"
      ],
      "id": "Oa_EPZw73r2O"
    },
    {
      "cell_type": "code",
      "execution_count": 22,
      "metadata": {
        "colab": {
          "base_uri": "https://localhost:8080/",
          "height": 533,
          "referenced_widgets": [
            "0461b354190246d1b8017eb5acd7a8ea",
            "1a0f485b8e944aae99289cc912321d81",
            "3faf0916d4274913afc7d61bf43f951d",
            "78de8ce5e67a44a093a53de7a1dee955",
            "be339d35350146c38ac1839a39c5c9f6",
            "c852f709c7894ff58f92ae9556296162",
            "a4098ef551a640b2a700a25dc5a92d47",
            "bab94bc973be49bc979fffc64b76eb02",
            "4ee632d43bbb4d68b229f5080df85d62",
            "4e209b7fc1f642129a7aa8073f5e8b81",
            "b3e0195a15c54b0e8466f28d4b62c58b"
          ]
        },
        "id": "c60Yn9U73VU2",
        "outputId": "e66ee624-06fa-4385-de5d-4df879dc0eb5"
      },
      "outputs": [
        {
          "output_type": "stream",
          "name": "stdout",
          "text": [
            "Random seed 2023 has been set.\n"
          ]
        },
        {
          "output_type": "display_data",
          "data": {
            "text/plain": [
              "  0%|          | 0/30 [00:00<?, ?it/s]"
            ],
            "application/vnd.jupyter.widget-view+json": {
              "version_major": 2,
              "version_minor": 0,
              "model_id": "0461b354190246d1b8017eb5acd7a8ea"
            }
          },
          "metadata": {}
        },
        {
          "output_type": "stream",
          "name": "stdout",
          "text": [
            "Last epoch train L2 loss: 1.4546371440794388\n",
            "Last epoch validation L2 loss: 2.6949297855297725\n"
          ]
        },
        {
          "output_type": "display_data",
          "data": {
            "text/plain": [
              "<Figure size 640x480 with 1 Axes>"
            ],
            "image/png": "[encoded data removed]"
          },
          "metadata": {}
        },
        {
          "output_type": "stream",
          "name": "stdout",
          "text": [
            "Test loss: 2.437458248933156\n"
          ]
        }
      ],
      "source": [
        "set_seed(SEED)\n",
        "swin = SwinNetCombined()\n",
        "train_model(swin, train_data, valid_data, test_data, lr=0.001, epochs=30)"
      ],
      "id": "c60Yn9U73VU2"
    },
    {
      "cell_type": "markdown",
      "metadata": {
        "id": "ULKePUQlWiSI"
      },
      "source": [
        "## Matrix input with quadratic method"
      ],
      "id": "ULKePUQlWiSI"
    },
    {
      "cell_type": "code",
      "execution_count": 23,
      "metadata": {
        "id": "RPAiEji4W4qM"
      },
      "outputs": [],
      "source": [
        "matrix_tensor = transformed[\"MATRIX_QUA\"].apply(matrix2tensor).values\n",
        "mat_train, mat_valid, mat_test = matrix_tensor[idx_train], matrix_tensor[idx_valid], matrix_tensor[idx_test]"
      ],
      "id": "RPAiEji4W4qM"
    },
    {
      "cell_type": "code",
      "execution_count": 24,
      "metadata": {
        "id": "Qz3o0rTnZN2p"
      },
      "outputs": [],
      "source": [
        "train_data = MatrixDataset(mat_train, out_train)\n",
        "valid_data = MatrixDataset(mat_valid, out_valid)\n",
        "test_data = MatrixDataset(mat_test, out_test)"
      ],
      "id": "Qz3o0rTnZN2p"
    },
    {
      "cell_type": "code",
      "execution_count": 26,
      "metadata": {
        "colab": {
          "base_uri": "https://localhost:8080/",
          "height": 533,
          "referenced_widgets": [
            "a049c5dbb9c74a7bbece19a5ed5dad83",
            "f66b33789cdd4c00a0efe1d227789919",
            "441310d2677449c8a3dcbb784f699dbb",
            "563ef9af458241899216272aed249fe7",
            "36ddcde244a44347aee3ebbb4d1473f4",
            "a4d255695a6f48dba3aee6efcdb1bd74",
            "b4ad18c389b14011bfe74e470fc49d63",
            "96373db00b9b4698a299ab8d9fdb0c38",
            "bd7a73b964874f8ea131e78bb1abd994",
            "87409da7c3944f818e6ef365d6982efa",
            "35d57b3166ba4dbabd4182c0536d5bc3"
          ]
        },
        "id": "Yj13AS0PbZGj",
        "outputId": "6b0da136-8354-41a3-9dea-d331528939fb"
      },
      "outputs": [
        {
          "output_type": "stream",
          "name": "stdout",
          "text": [
            "Random seed 2023 has been set.\n"
          ]
        },
        {
          "output_type": "display_data",
          "data": {
            "text/plain": [
              "  0%|          | 0/50 [00:00<?, ?it/s]"
            ],
            "application/vnd.jupyter.widget-view+json": {
              "version_major": 2,
              "version_minor": 0,
              "model_id": "a049c5dbb9c74a7bbece19a5ed5dad83"
            }
          },
          "metadata": {}
        },
        {
          "output_type": "stream",
          "name": "stdout",
          "text": [
            "Last epoch train L2 loss: 1.531893169458914\n",
            "Last epoch validation L2 loss: 2.334602742228243\n"
          ]
        },
        {
          "output_type": "display_data",
          "data": {
            "text/plain": [
              "<Figure size 640x480 with 1 Axes>"
            ],
            "image/png": "[encoded data removed]"
          },
          "metadata": {}
        },
        {
          "output_type": "stream",
          "name": "stdout",
          "text": [
            "Test loss: 2.007242827117443\n"
          ]
        }
      ],
      "source": [
        "set_seed(SEED)\n",
        "swin = SwinNetCombined()\n",
        "train_model(swin, train_data, valid_data, test_data, lr=0.0001, epochs=50)"
      ],
      "id": "Yj13AS0PbZGj"
    },
    {
      "cell_type": "markdown",
      "source": [
        "## Matrix input with binary method"
      ],
      "metadata": {
        "id": "opbbGrJR4oBh"
      },
      "id": "opbbGrJR4oBh"
    },
    {
      "cell_type": "code",
      "source": [
        "matrix_tensor = transformed[\"MATRIX_CON\"].apply(matrix2tensor).values\n",
        "mat_train, mat_valid, mat_test = matrix_tensor[idx_train], matrix_tensor[idx_valid], matrix_tensor[idx_test]"
      ],
      "metadata": {
        "id": "4iwqJsH-4sQa"
      },
      "id": "4iwqJsH-4sQa",
      "execution_count": 27,
      "outputs": []
    },
    {
      "cell_type": "code",
      "source": [
        "train_data = MatrixDataset(mat_train, out_train)\n",
        "valid_data = MatrixDataset(mat_valid, out_valid)\n",
        "test_data = MatrixDataset(mat_test, out_test)"
      ],
      "metadata": {
        "id": "-txcqBCm4yNN"
      },
      "id": "-txcqBCm4yNN",
      "execution_count": 28,
      "outputs": []
    },
    {
      "cell_type": "code",
      "source": [
        "set_seed(SEED)\n",
        "swin = SwinNetCombined()\n",
        "train_model(swin, train_data, valid_data, test_data, lr=0.0001, epochs=50)"
      ],
      "metadata": {
        "colab": {
          "base_uri": "https://localhost:8080/",
          "height": 533,
          "referenced_widgets": [
            "032dd6c7832b45209c3afffc240b5b79",
            "7f242dc4ec64411b83db40f32b0e7f68",
            "a13453da95b647e6966f9d8e4b3dc919",
            "d14ce0370e4d4d51918319df4fe1ab5a",
            "35c667bceac740a09b87fdc690f9c463",
            "efcb603ef2f34567b4b21dae846627c1",
            "02044da31fc34c4d9e94cd6152457dcf",
            "83e327730b894f9ba357a46bb1bb4bc9",
            "a33099ad846146efb0f072db0ae02839",
            "9ed5b8b4b0e54dbe8c8fb574f3653a77",
            "2638d739018247e692781a32d0a6481a"
          ]
        },
        "id": "KvKGNxJr5zD5",
        "outputId": "644fad2f-2ba1-49b0-a105-59f226fd07c4"
      },
      "id": "KvKGNxJr5zD5",
      "execution_count": 29,
      "outputs": [
        {
          "output_type": "stream",
          "name": "stdout",
          "text": [
            "Random seed 2023 has been set.\n"
          ]
        },
        {
          "output_type": "display_data",
          "data": {
            "text/plain": [
              "  0%|          | 0/50 [00:00<?, ?it/s]"
            ],
            "application/vnd.jupyter.widget-view+json": {
              "version_major": 2,
              "version_minor": 0,
              "model_id": "032dd6c7832b45209c3afffc240b5b79"
            }
          },
          "metadata": {}
        },
        {
          "output_type": "stream",
          "name": "stdout",
          "text": [
            "Last epoch train L2 loss: 2.997692170861042\n",
            "Last epoch validation L2 loss: 6.115830046600766\n"
          ]
        },
        {
          "output_type": "display_data",
          "data": {
            "text/plain": [
              "<Figure size 640x480 with 1 Axes>"
            ],
            "image/png": "[encoded data removed]"
          },
          "metadata": {}
        },
        {
          "output_type": "stream",
          "name": "stdout",
          "text": [
            "Test loss: 6.300424124134912\n"
          ]
        }
      ]
    },
    {
      "cell_type": "markdown",
      "source": [
        "# Plot comparison barchart"
      ],
      "metadata": {
        "id": "LxlZC589RL-H"
      },
      "id": "LxlZC589RL-H"
    },
    {
      "cell_type": "code",
      "source": [
        "n_groups = 3\n",
        "complete = (6.3004, 2.4374, 2.0072)\n",
        "simplified = (5.2952, 1.7722, 1.4865)\n",
        "\n",
        "# create plot\n",
        "fig, ax = plt.subplots()\n",
        "\n",
        "index = np.arange(n_groups)\n",
        "bar_width = 0.35\n",
        "opacity = 0.8\n",
        "\n",
        "rects1 = ax.bar(index, complete, bar_width,\n",
        "alpha=0.8,\n",
        "color='C0',\n",
        "label='Traditional')\n",
        "ax.bar_label(rects1)\n",
        "\n",
        "rects2 = ax.bar(index + bar_width, simplified, bar_width,\n",
        "alpha=0.3,\n",
        "color='C0',\n",
        "label='Simplified')\n",
        "ax.bar_label(rects2)\n",
        "\n",
        "#plt.xlabel('Swin')\n",
        "plt.ylabel('MSE')\n",
        "#plt.title('Comparison Between Traditional and Simplified Swin Transformer')\n",
        "plt.xticks(index + bar_width / 2, ('Binary', 'Linear', 'Quadratic'))\n",
        "plt.legend()\n",
        "\n",
        "plt.tight_layout()\n",
        "plt.show()"
      ],
      "metadata": {
        "colab": {
          "base_uri": "https://localhost:8080/",
          "height": 487
        },
        "id": "sRGBRPlgi3wn",
        "outputId": "58d6b4d0-23ff-4b01-95ae-a34557f07b96"
      },
      "id": "sRGBRPlgi3wn",
      "execution_count": 30,
      "outputs": [
        {
          "output_type": "display_data",
          "data": {
            "text/plain": [
              "<Figure size 640x480 with 1 Axes>"
            ],
            "image/png": "[encoded data removed]"
          },
          "metadata": {}
        }
      ]
    }
  ],
  "metadata": {
    "accelerator": "GPU",
    "colab": {
      "provenance": [],
      "toc_visible": true,
      "include_colab_link": true
    },
    "gpuClass": "standard",
    "kernelspec": {
      "display_name": "Python 3 (ipykernel)",
      "language": "python",
      "name": "python3"
    },
    "language_info": {
      "codemirror_mode": {
        "name": "ipython",
        "version": 3
      },
      "file_extension": ".py",
      "mimetype": "text/x-python",
      "name": "python",
      "nbconvert_exporter": "python",
      "pygments_lexer": "ipython3",
      "version": "3.8.4"
    },
    "widgets": {
      "application/vnd.jupyter.widget-state+json": {
        "0461b354190246d1b8017eb5acd7a8ea": {
          "model_module": "@jupyter-widgets/controls",
          "model_name": "HBoxModel",
          "model_module_version": "1.5.0",
          "state": {
            "_dom_classes": [],
            "_model_module": "@jupyter-widgets/controls",
            "_model_module_version": "1.5.0",
            "_model_name": "HBoxModel",
            "_view_count": null,
            "_view_module": "@jupyter-widgets/controls",
            "_view_module_version": "1.5.0",
            "_view_name": "HBoxView",
            "box_style": "",
            "children": [
              "IPY_MODEL_1a0f485b8e944aae99289cc912321d81",
              "IPY_MODEL_3faf0916d4274913afc7d61bf43f951d",
              "IPY_MODEL_78de8ce5e67a44a093a53de7a1dee955"
            ],
            "layout": "IPY_MODEL_be339d35350146c38ac1839a39c5c9f6"
          }
        },
        "1a0f485b8e944aae99289cc912321d81": {
          "model_module": "@jupyter-widgets/controls",
          "model_name": "HTMLModel",
          "model_module_version": "1.5.0",
          "state": {
            "_dom_classes": [],
            "_model_module": "@jupyter-widgets/controls",
            "_model_module_version": "1.5.0",
            "_model_name": "HTMLModel",
            "_view_count": null,
            "_view_module": "@jupyter-widgets/controls",
            "_view_module_version": "1.5.0",
            "_view_name": "HTMLView",
            "description": "",
            "description_tooltip": null,
            "layout": "IPY_MODEL_c852f709c7894ff58f92ae9556296162",
            "placeholder": "​",
            "style": "IPY_MODEL_a4098ef551a640b2a700a25dc5a92d47",
            "value": "100%"
          }
        },
        "3faf0916d4274913afc7d61bf43f951d": {
          "model_module": "@jupyter-widgets/controls",
          "model_name": "FloatProgressModel",
          "model_module_version": "1.5.0",
          "state": {
            "_dom_classes": [],
            "_model_module": "@jupyter-widgets/controls",
            "_model_module_version": "1.5.0",
            "_model_name": "FloatProgressModel",
            "_view_count": null,
            "_view_module": "@jupyter-widgets/controls",
            "_view_module_version": "1.5.0",
            "_view_name": "ProgressView",
            "bar_style": "success",
            "description": "",
            "description_tooltip": null,
            "layout": "IPY_MODEL_bab94bc973be49bc979fffc64b76eb02",
            "max": 30,
            "min": 0,
            "orientation": "horizontal",
            "style": "IPY_MODEL_4ee632d43bbb4d68b229f5080df85d62",
            "value": 30
          }
        },
        "78de8ce5e67a44a093a53de7a1dee955": {
          "model_module": "@jupyter-widgets/controls",
          "model_name": "HTMLModel",
          "model_module_version": "1.5.0",
          "state": {
            "_dom_classes": [],
            "_model_module": "@jupyter-widgets/controls",
            "_model_module_version": "1.5.0",
            "_model_name": "HTMLModel",
            "_view_count": null,
            "_view_module": "@jupyter-widgets/controls",
            "_view_module_version": "1.5.0",
            "_view_name": "HTMLView",
            "description": "",
            "description_tooltip": null,
            "layout": "IPY_MODEL_4e209b7fc1f642129a7aa8073f5e8b81",
            "placeholder": "​",
            "style": "IPY_MODEL_b3e0195a15c54b0e8466f28d4b62c58b",
            "value": " 30/30 [01:18&lt;00:00,  2.26s/it]"
          }
        },
        "be339d35350146c38ac1839a39c5c9f6": {
          "model_module": "@jupyter-widgets/base",
          "model_name": "LayoutModel",
          "model_module_version": "1.2.0",
          "state": {
            "_model_module": "@jupyter-widgets/base",
            "_model_module_version": "1.2.0",
            "_model_name": "LayoutModel",
            "_view_count": null,
            "_view_module": "@jupyter-widgets/base",
            "_view_module_version": "1.2.0",
            "_view_name": "LayoutView",
            "align_content": null,
            "align_items": null,
            "align_self": null,
            "border": null,
            "bottom": null,
            "display": null,
            "flex": null,
            "flex_flow": null,
            "grid_area": null,
            "grid_auto_columns": null,
            "grid_auto_flow": null,
            "grid_auto_rows": null,
            "grid_column": null,
            "grid_gap": null,
            "grid_row": null,
            "grid_template_areas": null,
            "grid_template_columns": null,
            "grid_template_rows": null,
            "height": null,
            "justify_content": null,
            "justify_items": null,
            "left": null,
            "margin": null,
            "max_height": null,
            "max_width": null,
            "min_height": null,
            "min_width": null,
            "object_fit": null,
            "object_position": null,
            "order": null,
            "overflow": null,
            "overflow_x": null,
            "overflow_y": null,
            "padding": null,
            "right": null,
            "top": null,
            "visibility": null,
            "width": null
          }
        },
        "c852f709c7894ff58f92ae9556296162": {
          "model_module": "@jupyter-widgets/base",
          "model_name": "LayoutModel",
          "model_module_version": "1.2.0",
          "state": {
            "_model_module": "@jupyter-widgets/base",
            "_model_module_version": "1.2.0",
            "_model_name": "LayoutModel",
            "_view_count": null,
            "_view_module": "@jupyter-widgets/base",
            "_view_module_version": "1.2.0",
            "_view_name": "LayoutView",
            "align_content": null,
            "align_items": null,
            "align_self": null,
            "border": null,
            "bottom": null,
            "display": null,
            "flex": null,
            "flex_flow": null,
            "grid_area": null,
            "grid_auto_columns": null,
            "grid_auto_flow": null,
            "grid_auto_rows": null,
            "grid_column": null,
            "grid_gap": null,
            "grid_row": null,
            "grid_template_areas": null,
            "grid_template_columns": null,
            "grid_template_rows": null,
            "height": null,
            "justify_content": null,
            "justify_items": null,
            "left": null,
            "margin": null,
            "max_height": null,
            "max_width": null,
            "min_height": null,
            "min_width": null,
            "object_fit": null,
            "object_position": null,
            "order": null,
            "overflow": null,
            "overflow_x": null,
            "overflow_y": null,
            "padding": null,
            "right": null,
            "top": null,
            "visibility": null,
            "width": null
          }
        },
        "a4098ef551a640b2a700a25dc5a92d47": {
          "model_module": "@jupyter-widgets/controls",
          "model_name": "DescriptionStyleModel",
          "model_module_version": "1.5.0",
          "state": {
            "_model_module": "@jupyter-widgets/controls",
            "_model_module_version": "1.5.0",
            "_model_name": "DescriptionStyleModel",
            "_view_count": null,
            "_view_module": "@jupyter-widgets/base",
            "_view_module_version": "1.2.0",
            "_view_name": "StyleView",
            "description_width": ""
          }
        },
        "bab94bc973be49bc979fffc64b76eb02": {
          "model_module": "@jupyter-widgets/base",
          "model_name": "LayoutModel",
          "model_module_version": "1.2.0",
          "state": {
            "_model_module": "@jupyter-widgets/base",
            "_model_module_version": "1.2.0",
            "_model_name": "LayoutModel",
            "_view_count": null,
            "_view_module": "@jupyter-widgets/base",
            "_view_module_version": "1.2.0",
            "_view_name": "LayoutView",
            "align_content": null,
            "align_items": null,
            "align_self": null,
            "border": null,
            "bottom": null,
            "display": null,
            "flex": null,
            "flex_flow": null,
            "grid_area": null,
            "grid_auto_columns": null,
            "grid_auto_flow": null,
            "grid_auto_rows": null,
            "grid_column": null,
            "grid_gap": null,
            "grid_row": null,
            "grid_template_areas": null,
            "grid_template_columns": null,
            "grid_template_rows": null,
            "height": null,
            "justify_content": null,
            "justify_items": null,
            "left": null,
            "margin": null,
            "max_height": null,
            "max_width": null,
            "min_height": null,
            "min_width": null,
            "object_fit": null,
            "object_position": null,
            "order": null,
            "overflow": null,
            "overflow_x": null,
            "overflow_y": null,
            "padding": null,
            "right": null,
            "top": null,
            "visibility": null,
            "width": null
          }
        },
        "4ee632d43bbb4d68b229f5080df85d62": {
          "model_module": "@jupyter-widgets/controls",
          "model_name": "ProgressStyleModel",
          "model_module_version": "1.5.0",
          "state": {
            "_model_module": "@jupyter-widgets/controls",
            "_model_module_version": "1.5.0",
            "_model_name": "ProgressStyleModel",
            "_view_count": null,
            "_view_module": "@jupyter-widgets/base",
            "_view_module_version": "1.2.0",
            "_view_name": "StyleView",
            "bar_color": null,
            "description_width": ""
          }
        },
        "4e209b7fc1f642129a7aa8073f5e8b81": {
          "model_module": "@jupyter-widgets/base",
          "model_name": "LayoutModel",
          "model_module_version": "1.2.0",
          "state": {
            "_model_module": "@jupyter-widgets/base",
            "_model_module_version": "1.2.0",
            "_model_name": "LayoutModel",
            "_view_count": null,
            "_view_module": "@jupyter-widgets/base",
            "_view_module_version": "1.2.0",
            "_view_name": "LayoutView",
            "align_content": null,
            "align_items": null,
            "align_self": null,
            "border": null,
            "bottom": null,
            "display": null,
            "flex": null,
            "flex_flow": null,
            "grid_area": null,
            "grid_auto_columns": null,
            "grid_auto_flow": null,
            "grid_auto_rows": null,
            "grid_column": null,
            "grid_gap": null,
            "grid_row": null,
            "grid_template_areas": null,
            "grid_template_columns": null,
            "grid_template_rows": null,
            "height": null,
            "justify_content": null,
            "justify_items": null,
            "left": null,
            "margin": null,
            "max_height": null,
            "max_width": null,
            "min_height": null,
            "min_width": null,
            "object_fit": null,
            "object_position": null,
            "order": null,
            "overflow": null,
            "overflow_x": null,
            "overflow_y": null,
            "padding": null,
            "right": null,
            "top": null,
            "visibility": null,
            "width": null
          }
        },
        "b3e0195a15c54b0e8466f28d4b62c58b": {
          "model_module": "@jupyter-widgets/controls",
          "model_name": "DescriptionStyleModel",
          "model_module_version": "1.5.0",
          "state": {
            "_model_module": "@jupyter-widgets/controls",
            "_model_module_version": "1.5.0",
            "_model_name": "DescriptionStyleModel",
            "_view_count": null,
            "_view_module": "@jupyter-widgets/base",
            "_view_module_version": "1.2.0",
            "_view_name": "StyleView",
            "description_width": ""
          }
        },
        "a049c5dbb9c74a7bbece19a5ed5dad83": {
          "model_module": "@jupyter-widgets/controls",
          "model_name": "HBoxModel",
          "model_module_version": "1.5.0",
          "state": {
            "_dom_classes": [],
            "_model_module": "@jupyter-widgets/controls",
            "_model_module_version": "1.5.0",
            "_model_name": "HBoxModel",
            "_view_count": null,
            "_view_module": "@jupyter-widgets/controls",
            "_view_module_version": "1.5.0",
            "_view_name": "HBoxView",
            "box_style": "",
            "children": [
              "IPY_MODEL_f66b33789cdd4c00a0efe1d227789919",
              "IPY_MODEL_441310d2677449c8a3dcbb784f699dbb",
              "IPY_MODEL_563ef9af458241899216272aed249fe7"
            ],
            "layout": "IPY_MODEL_36ddcde244a44347aee3ebbb4d1473f4"
          }
        },
        "f66b33789cdd4c00a0efe1d227789919": {
          "model_module": "@jupyter-widgets/controls",
          "model_name": "HTMLModel",
          "model_module_version": "1.5.0",
          "state": {
            "_dom_classes": [],
            "_model_module": "@jupyter-widgets/controls",
            "_model_module_version": "1.5.0",
            "_model_name": "HTMLModel",
            "_view_count": null,
            "_view_module": "@jupyter-widgets/controls",
            "_view_module_version": "1.5.0",
            "_view_name": "HTMLView",
            "description": "",
            "description_tooltip": null,
            "layout": "IPY_MODEL_a4d255695a6f48dba3aee6efcdb1bd74",
            "placeholder": "​",
            "style": "IPY_MODEL_b4ad18c389b14011bfe74e470fc49d63",
            "value": "100%"
          }
        },
        "441310d2677449c8a3dcbb784f699dbb": {
          "model_module": "@jupyter-widgets/controls",
          "model_name": "FloatProgressModel",
          "model_module_version": "1.5.0",
          "state": {
            "_dom_classes": [],
            "_model_module": "@jupyter-widgets/controls",
            "_model_module_version": "1.5.0",
            "_model_name": "FloatProgressModel",
            "_view_count": null,
            "_view_module": "@jupyter-widgets/controls",
            "_view_module_version": "1.5.0",
            "_view_name": "ProgressView",
            "bar_style": "success",
            "description": "",
            "description_tooltip": null,
            "layout": "IPY_MODEL_96373db00b9b4698a299ab8d9fdb0c38",
            "max": 50,
            "min": 0,
            "orientation": "horizontal",
            "style": "IPY_MODEL_bd7a73b964874f8ea131e78bb1abd994",
            "value": 50
          }
        },
        "563ef9af458241899216272aed249fe7": {
          "model_module": "@jupyter-widgets/controls",
          "model_name": "HTMLModel",
          "model_module_version": "1.5.0",
          "state": {
            "_dom_classes": [],
            "_model_module": "@jupyter-widgets/controls",
            "_model_module_version": "1.5.0",
            "_model_name": "HTMLModel",
            "_view_count": null,
            "_view_module": "@jupyter-widgets/controls",
            "_view_module_version": "1.5.0",
            "_view_name": "HTMLView",
            "description": "",
            "description_tooltip": null,
            "layout": "IPY_MODEL_87409da7c3944f818e6ef365d6982efa",
            "placeholder": "​",
            "style": "IPY_MODEL_35d57b3166ba4dbabd4182c0536d5bc3",
            "value": " 50/50 [02:02&lt;00:00,  2.52s/it]"
          }
        },
        "36ddcde244a44347aee3ebbb4d1473f4": {
          "model_module": "@jupyter-widgets/base",
          "model_name": "LayoutModel",
          "model_module_version": "1.2.0",
          "state": {
            "_model_module": "@jupyter-widgets/base",
            "_model_module_version": "1.2.0",
            "_model_name": "LayoutModel",
            "_view_count": null,
            "_view_module": "@jupyter-widgets/base",
            "_view_module_version": "1.2.0",
            "_view_name": "LayoutView",
            "align_content": null,
            "align_items": null,
            "align_self": null,
            "border": null,
            "bottom": null,
            "display": null,
            "flex": null,
            "flex_flow": null,
            "grid_area": null,
            "grid_auto_columns": null,
            "grid_auto_flow": null,
            "grid_auto_rows": null,
            "grid_column": null,
            "grid_gap": null,
            "grid_row": null,
            "grid_template_areas": null,
            "grid_template_columns": null,
            "grid_template_rows": null,
            "height": null,
            "justify_content": null,
            "justify_items": null,
            "left": null,
            "margin": null,
            "max_height": null,
            "max_width": null,
            "min_height": null,
            "min_width": null,
            "object_fit": null,
            "object_position": null,
            "order": null,
            "overflow": null,
            "overflow_x": null,
            "overflow_y": null,
            "padding": null,
            "right": null,
            "top": null,
            "visibility": null,
            "width": null
          }
        },
        "a4d255695a6f48dba3aee6efcdb1bd74": {
          "model_module": "@jupyter-widgets/base",
          "model_name": "LayoutModel",
          "model_module_version": "1.2.0",
          "state": {
            "_model_module": "@jupyter-widgets/base",
            "_model_module_version": "1.2.0",
            "_model_name": "LayoutModel",
            "_view_count": null,
            "_view_module": "@jupyter-widgets/base",
            "_view_module_version": "1.2.0",
            "_view_name": "LayoutView",
            "align_content": null,
            "align_items": null,
            "align_self": null,
            "border": null,
            "bottom": null,
            "display": null,
            "flex": null,
            "flex_flow": null,
            "grid_area": null,
            "grid_auto_columns": null,
            "grid_auto_flow": null,
            "grid_auto_rows": null,
            "grid_column": null,
            "grid_gap": null,
            "grid_row": null,
            "grid_template_areas": null,
            "grid_template_columns": null,
            "grid_template_rows": null,
            "height": null,
            "justify_content": null,
            "justify_items": null,
            "left": null,
            "margin": null,
            "max_height": null,
            "max_width": null,
            "min_height": null,
            "min_width": null,
            "object_fit": null,
            "object_position": null,
            "order": null,
            "overflow": null,
            "overflow_x": null,
            "overflow_y": null,
            "padding": null,
            "right": null,
            "top": null,
            "visibility": null,
            "width": null
          }
        },
        "b4ad18c389b14011bfe74e470fc49d63": {
          "model_module": "@jupyter-widgets/controls",
          "model_name": "DescriptionStyleModel",
          "model_module_version": "1.5.0",
          "state": {
            "_model_module": "@jupyter-widgets/controls",
            "_model_module_version": "1.5.0",
            "_model_name": "DescriptionStyleModel",
            "_view_count": null,
            "_view_module": "@jupyter-widgets/base",
            "_view_module_version": "1.2.0",
            "_view_name": "StyleView",
            "description_width": ""
          }
        },
        "96373db00b9b4698a299ab8d9fdb0c38": {
          "model_module": "@jupyter-widgets/base",
          "model_name": "LayoutModel",
          "model_module_version": "1.2.0",
          "state": {
            "_model_module": "@jupyter-widgets/base",
            "_model_module_version": "1.2.0",
            "_model_name": "LayoutModel",
            "_view_count": null,
            "_view_module": "@jupyter-widgets/base",
            "_view_module_version": "1.2.0",
            "_view_name": "LayoutView",
            "align_content": null,
            "align_items": null,
            "align_self": null,
            "border": null,
            "bottom": null,
            "display": null,
            "flex": null,
            "flex_flow": null,
            "grid_area": null,
            "grid_auto_columns": null,
            "grid_auto_flow": null,
            "grid_auto_rows": null,
            "grid_column": null,
            "grid_gap": null,
            "grid_row": null,
            "grid_template_areas": null,
            "grid_template_columns": null,
            "grid_template_rows": null,
            "height": null,
            "justify_content": null,
            "justify_items": null,
            "left": null,
            "margin": null,
            "max_height": null,
            "max_width": null,
            "min_height": null,
            "min_width": null,
            "object_fit": null,
            "object_position": null,
            "order": null,
            "overflow": null,
            "overflow_x": null,
            "overflow_y": null,
            "padding": null,
            "right": null,
            "top": null,
            "visibility": null,
            "width": null
          }
        },
        "bd7a73b964874f8ea131e78bb1abd994": {
          "model_module": "@jupyter-widgets/controls",
          "model_name": "ProgressStyleModel",
          "model_module_version": "1.5.0",
          "state": {
            "_model_module": "@jupyter-widgets/controls",
            "_model_module_version": "1.5.0",
            "_model_name": "ProgressStyleModel",
            "_view_count": null,
            "_view_module": "@jupyter-widgets/base",
            "_view_module_version": "1.2.0",
            "_view_name": "StyleView",
            "bar_color": null,
            "description_width": ""
          }
        },
        "87409da7c3944f818e6ef365d6982efa": {
          "model_module": "@jupyter-widgets/base",
          "model_name": "LayoutModel",
          "model_module_version": "1.2.0",
          "state": {
            "_model_module": "@jupyter-widgets/base",
            "_model_module_version": "1.2.0",
            "_model_name": "LayoutModel",
            "_view_count": null,
            "_view_module": "@jupyter-widgets/base",
            "_view_module_version": "1.2.0",
            "_view_name": "LayoutView",
            "align_content": null,
            "align_items": null,
            "align_self": null,
            "border": null,
            "bottom": null,
            "display": null,
            "flex": null,
            "flex_flow": null,
            "grid_area": null,
            "grid_auto_columns": null,
            "grid_auto_flow": null,
            "grid_auto_rows": null,
            "grid_column": null,
            "grid_gap": null,
            "grid_row": null,
            "grid_template_areas": null,
            "grid_template_columns": null,
            "grid_template_rows": null,
            "height": null,
            "justify_content": null,
            "justify_items": null,
            "left": null,
            "margin": null,
            "max_height": null,
            "max_width": null,
            "min_height": null,
            "min_width": null,
            "object_fit": null,
            "object_position": null,
            "order": null,
            "overflow": null,
            "overflow_x": null,
            "overflow_y": null,
            "padding": null,
            "right": null,
            "top": null,
            "visibility": null,
            "width": null
          }
        },
        "35d57b3166ba4dbabd4182c0536d5bc3": {
          "model_module": "@jupyter-widgets/controls",
          "model_name": "DescriptionStyleModel",
          "model_module_version": "1.5.0",
          "state": {
            "_model_module": "@jupyter-widgets/controls",
            "_model_module_version": "1.5.0",
            "_model_name": "DescriptionStyleModel",
            "_view_count": null,
            "_view_module": "@jupyter-widgets/base",
            "_view_module_version": "1.2.0",
            "_view_name": "StyleView",
            "description_width": ""
          }
        },
        "032dd6c7832b45209c3afffc240b5b79": {
          "model_module": "@jupyter-widgets/controls",
          "model_name": "HBoxModel",
          "model_module_version": "1.5.0",
          "state": {
            "_dom_classes": [],
            "_model_module": "@jupyter-widgets/controls",
            "_model_module_version": "1.5.0",
            "_model_name": "HBoxModel",
            "_view_count": null,
            "_view_module": "@jupyter-widgets/controls",
            "_view_module_version": "1.5.0",
            "_view_name": "HBoxView",
            "box_style": "",
            "children": [
              "IPY_MODEL_7f242dc4ec64411b83db40f32b0e7f68",
              "IPY_MODEL_a13453da95b647e6966f9d8e4b3dc919",
              "IPY_MODEL_d14ce0370e4d4d51918319df4fe1ab5a"
            ],
            "layout": "IPY_MODEL_35c667bceac740a09b87fdc690f9c463"
          }
        },
        "7f242dc4ec64411b83db40f32b0e7f68": {
          "model_module": "@jupyter-widgets/controls",
          "model_name": "HTMLModel",
          "model_module_version": "1.5.0",
          "state": {
            "_dom_classes": [],
            "_model_module": "@jupyter-widgets/controls",
            "_model_module_version": "1.5.0",
            "_model_name": "HTMLModel",
            "_view_count": null,
            "_view_module": "@jupyter-widgets/controls",
            "_view_module_version": "1.5.0",
            "_view_name": "HTMLView",
            "description": "",
            "description_tooltip": null,
            "layout": "IPY_MODEL_efcb603ef2f34567b4b21dae846627c1",
            "placeholder": "​",
            "style": "IPY_MODEL_02044da31fc34c4d9e94cd6152457dcf",
            "value": "100%"
          }
        },
        "a13453da95b647e6966f9d8e4b3dc919": {
          "model_module": "@jupyter-widgets/controls",
          "model_name": "FloatProgressModel",
          "model_module_version": "1.5.0",
          "state": {
            "_dom_classes": [],
            "_model_module": "@jupyter-widgets/controls",
            "_model_module_version": "1.5.0",
            "_model_name": "FloatProgressModel",
            "_view_count": null,
            "_view_module": "@jupyter-widgets/controls",
            "_view_module_version": "1.5.0",
            "_view_name": "ProgressView",
            "bar_style": "success",
            "description": "",
            "description_tooltip": null,
            "layout": "IPY_MODEL_83e327730b894f9ba357a46bb1bb4bc9",
            "max": 50,
            "min": 0,
            "orientation": "horizontal",
            "style": "IPY_MODEL_a33099ad846146efb0f072db0ae02839",
            "value": 50
          }
        },
        "d14ce0370e4d4d51918319df4fe1ab5a": {
          "model_module": "@jupyter-widgets/controls",
          "model_name": "HTMLModel",
          "model_module_version": "1.5.0",
          "state": {
            "_dom_classes": [],
            "_model_module": "@jupyter-widgets/controls",
            "_model_module_version": "1.5.0",
            "_model_name": "HTMLModel",
            "_view_count": null,
            "_view_module": "@jupyter-widgets/controls",
            "_view_module_version": "1.5.0",
            "_view_name": "HTMLView",
            "description": "",
            "description_tooltip": null,
            "layout": "IPY_MODEL_9ed5b8b4b0e54dbe8c8fb574f3653a77",
            "placeholder": "​",
            "style": "IPY_MODEL_2638d739018247e692781a32d0a6481a",
            "value": " 50/50 [01:58&lt;00:00,  2.27s/it]"
          }
        },
        "35c667bceac740a09b87fdc690f9c463": {
          "model_module": "@jupyter-widgets/base",
          "model_name": "LayoutModel",
          "model_module_version": "1.2.0",
          "state": {
            "_model_module": "@jupyter-widgets/base",
            "_model_module_version": "1.2.0",
            "_model_name": "LayoutModel",
            "_view_count": null,
            "_view_module": "@jupyter-widgets/base",
            "_view_module_version": "1.2.0",
            "_view_name": "LayoutView",
            "align_content": null,
            "align_items": null,
            "align_self": null,
            "border": null,
            "bottom": null,
            "display": null,
            "flex": null,
            "flex_flow": null,
            "grid_area": null,
            "grid_auto_columns": null,
            "grid_auto_flow": null,
            "grid_auto_rows": null,
            "grid_column": null,
            "grid_gap": null,
            "grid_row": null,
            "grid_template_areas": null,
            "grid_template_columns": null,
            "grid_template_rows": null,
            "height": null,
            "justify_content": null,
            "justify_items": null,
            "left": null,
            "margin": null,
            "max_height": null,
            "max_width": null,
            "min_height": null,
            "min_width": null,
            "object_fit": null,
            "object_position": null,
            "order": null,
            "overflow": null,
            "overflow_x": null,
            "overflow_y": null,
            "padding": null,
            "right": null,
            "top": null,
            "visibility": null,
            "width": null
          }
        },
        "efcb603ef2f34567b4b21dae846627c1": {
          "model_module": "@jupyter-widgets/base",
          "model_name": "LayoutModel",
          "model_module_version": "1.2.0",
          "state": {
            "_model_module": "@jupyter-widgets/base",
            "_model_module_version": "1.2.0",
            "_model_name": "LayoutModel",
            "_view_count": null,
            "_view_module": "@jupyter-widgets/base",
            "_view_module_version": "1.2.0",
            "_view_name": "LayoutView",
            "align_content": null,
            "align_items": null,
            "align_self": null,
            "border": null,
            "bottom": null,
            "display": null,
            "flex": null,
            "flex_flow": null,
            "grid_area": null,
            "grid_auto_columns": null,
            "grid_auto_flow": null,
            "grid_auto_rows": null,
            "grid_column": null,
            "grid_gap": null,
            "grid_row": null,
            "grid_template_areas": null,
            "grid_template_columns": null,
            "grid_template_rows": null,
            "height": null,
            "justify_content": null,
            "justify_items": null,
            "left": null,
            "margin": null,
            "max_height": null,
            "max_width": null,
            "min_height": null,
            "min_width": null,
            "object_fit": null,
            "object_position": null,
            "order": null,
            "overflow": null,
            "overflow_x": null,
            "overflow_y": null,
            "padding": null,
            "right": null,
            "top": null,
            "visibility": null,
            "width": null
          }
        },
        "02044da31fc34c4d9e94cd6152457dcf": {
          "model_module": "@jupyter-widgets/controls",
          "model_name": "DescriptionStyleModel",
          "model_module_version": "1.5.0",
          "state": {
            "_model_module": "@jupyter-widgets/controls",
            "_model_module_version": "1.5.0",
            "_model_name": "DescriptionStyleModel",
            "_view_count": null,
            "_view_module": "@jupyter-widgets/base",
            "_view_module_version": "1.2.0",
            "_view_name": "StyleView",
            "description_width": ""
          }
        },
        "83e327730b894f9ba357a46bb1bb4bc9": {
          "model_module": "@jupyter-widgets/base",
          "model_name": "LayoutModel",
          "model_module_version": "1.2.0",
          "state": {
            "_model_module": "@jupyter-widgets/base",
            "_model_module_version": "1.2.0",
            "_model_name": "LayoutModel",
            "_view_count": null,
            "_view_module": "@jupyter-widgets/base",
            "_view_module_version": "1.2.0",
            "_view_name": "LayoutView",
            "align_content": null,
            "align_items": null,
            "align_self": null,
            "border": null,
            "bottom": null,
            "display": null,
            "flex": null,
            "flex_flow": null,
            "grid_area": null,
            "grid_auto_columns": null,
            "grid_auto_flow": null,
            "grid_auto_rows": null,
            "grid_column": null,
            "grid_gap": null,
            "grid_row": null,
            "grid_template_areas": null,
            "grid_template_columns": null,
            "grid_template_rows": null,
            "height": null,
            "justify_content": null,
            "justify_items": null,
            "left": null,
            "margin": null,
            "max_height": null,
            "max_width": null,
            "min_height": null,
            "min_width": null,
            "object_fit": null,
            "object_position": null,
            "order": null,
            "overflow": null,
            "overflow_x": null,
            "overflow_y": null,
            "padding": null,
            "right": null,
            "top": null,
            "visibility": null,
            "width": null
          }
        },
        "a33099ad846146efb0f072db0ae02839": {
          "model_module": "@jupyter-widgets/controls",
          "model_name": "ProgressStyleModel",
          "model_module_version": "1.5.0",
          "state": {
            "_model_module": "@jupyter-widgets/controls",
            "_model_module_version": "1.5.0",
            "_model_name": "ProgressStyleModel",
            "_view_count": null,
            "_view_module": "@jupyter-widgets/base",
            "_view_module_version": "1.2.0",
            "_view_name": "StyleView",
            "bar_color": null,
            "description_width": ""
          }
        },
        "9ed5b8b4b0e54dbe8c8fb574f3653a77": {
          "model_module": "@jupyter-widgets/base",
          "model_name": "LayoutModel",
          "model_module_version": "1.2.0",
          "state": {
            "_model_module": "@jupyter-widgets/base",
            "_model_module_version": "1.2.0",
            "_model_name": "LayoutModel",
            "_view_count": null,
            "_view_module": "@jupyter-widgets/base",
            "_view_module_version": "1.2.0",
            "_view_name": "LayoutView",
            "align_content": null,
            "align_items": null,
            "align_self": null,
            "border": null,
            "bottom": null,
            "display": null,
            "flex": null,
            "flex_flow": null,
            "grid_area": null,
            "grid_auto_columns": null,
            "grid_auto_flow": null,
            "grid_auto_rows": null,
            "grid_column": null,
            "grid_gap": null,
            "grid_row": null,
            "grid_template_areas": null,
            "grid_template_columns": null,
            "grid_template_rows": null,
            "height": null,
            "justify_content": null,
            "justify_items": null,
            "left": null,
            "margin": null,
            "max_height": null,
            "max_width": null,
            "min_height": null,
            "min_width": null,
            "object_fit": null,
            "object_position": null,
            "order": null,
            "overflow": null,
            "overflow_x": null,
            "overflow_y": null,
            "padding": null,
            "right": null,
            "top": null,
            "visibility": null,
            "width": null
          }
        },
        "2638d739018247e692781a32d0a6481a": {
          "model_module": "@jupyter-widgets/controls",
          "model_name": "DescriptionStyleModel",
          "model_module_version": "1.5.0",
          "state": {
            "_model_module": "@jupyter-widgets/controls",
            "_model_module_version": "1.5.0",
            "_model_name": "DescriptionStyleModel",
            "_view_count": null,
            "_view_module": "@jupyter-widgets/base",
            "_view_module_version": "1.2.0",
            "_view_name": "StyleView",
            "description_width": ""
          }
        }
      }
    }
  },
  "nbformat": 4,
  "nbformat_minor": 5
}